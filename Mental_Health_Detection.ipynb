{
  "cells": [
    {
      "cell_type": "code",
      "execution_count": null,
      "metadata": {
        "colab": {
          "base_uri": "https://localhost:8080/"
        },
        "id": "dNZPLiemhD8D",
        "outputId": "78dbdd85-eb7f-41ee-b560-898ed6e4558d"
      },
      "outputs": [
        {
          "name": "stdout",
          "output_type": "stream",
          "text": [
            "Added shopping_cart.png for wordcloud\n"
          ]
        }
      ],
      "source": [
        "import numpy as np \n",
        "import pandas as pd \n",
        "import matplotlib.pyplot as plt\n",
        "import keras\n",
        "from warnings import filterwarnings\n",
        "filterwarnings('ignore')\n",
        "import os\n",
        "for dirname, _, filenames in os.walk('/kaggle/input'):\n",
        "    for filename in filenames:\n",
        "        print(os.path.join(dirname, filename))\n",
        "print(\"Added shopping_cart.png for wordcloud\")"
      ]
    },
    {
      "cell_type": "code",
      "execution_count": null,
      "metadata": {
        "id": "VPTbPudHhW9_"
      },
      "outputs": [],
      "source": [
        "# from google.colab import drive\n",
        "# drive.mount('/content/drive')"
      ]
    },
    {
      "cell_type": "code",
      "execution_count": null,
      "metadata": {
        "colab": {
          "base_uri": "https://localhost:8080/",
          "height": 597
        },
        "id": "1o69-xkHhlOQ",
        "outputId": "c434ea17-21b4-4ef5-f73f-0c1b655ee659"
      },
      "outputs": [
        {
          "data": {
            "text/html": [
              "<div>\n",
              "<style scoped>\n",
              "    .dataframe tbody tr th:only-of-type {\n",
              "        vertical-align: middle;\n",
              "    }\n",
              "\n",
              "    .dataframe tbody tr th {\n",
              "        vertical-align: top;\n",
              "    }\n",
              "\n",
              "    .dataframe thead th {\n",
              "        text-align: right;\n",
              "    }\n",
              "</style>\n",
              "<table border=\"1\" class=\"dataframe\">\n",
              "  <thead>\n",
              "    <tr style=\"text-align: right;\">\n",
              "      <th></th>\n",
              "      <th>Title</th>\n",
              "      <th>Text</th>\n",
              "      <th>Subreddit</th>\n",
              "    </tr>\n",
              "  </thead>\n",
              "  <tbody>\n",
              "    <tr>\n",
              "      <th>0</th>\n",
              "      <td>exposure does not work!</td>\n",
              "      <td>I have struggled with social anxiety from childhood and the main advice from friends, self-help books and professionals is to expose myself to those environments but I'm not better off!\\n\\nExample: I get anxious every single time I go into a shop even though I have been doing my own shopping daily/ weekly since being 16.\\n\\nI get nervous, sweaty, heart pounding every time I go into the gym, yet I have been working out at the same gym for years.\\n\\nHas exposure not worked for anyone else?</td>\n",
              "      <td>Anxiety</td>\n",
              "    </tr>\n",
              "    <tr>\n",
              "      <th>1</th>\n",
              "      <td>Panic attack? derealization? can't go to doctors? Advice Appreciated!</td>\n",
              "      <td>Back in March (I know, a while ago D:), I woke up that day to go to school but I was feeling kind of 'off' I felt depressed, I didn't really feel like getting up or even seeing anyone. I have a history of this :P \\n// It's really on and off but it mainly happens in the winter time. I get highly anxious also going out anywhere during these periods of time, I get suspicious and paranoid of everyone or anything. I usually end up isolating myself in my room until it's all over and eat way less t...</td>\n",
              "      <td>Anxiety</td>\n",
              "    </tr>\n",
              "    <tr>\n",
              "      <th>2</th>\n",
              "      <td>How long can a panic attack last?!</td>\n",
              "      <td>I've been withdrawing from medicines lately (effexor, zyprexa and cymbalta) not all at the same time mind you, but they have been close together in withdraw. \\nThursday I had a major panic attack, so bad that I needed to take extra of my kolonopin and had to skip work Friday. It only lasted about 30mins, but I was shaky and felt sick the rest of the night. Now it's saturday, not quite two full days after the panic attack started and I still feel as I like to describe 'like a chihuahua', or l...</td>\n",
              "      <td>Anxiety</td>\n",
              "    </tr>\n",
              "    <tr>\n",
              "      <th>3</th>\n",
              "      <td>Stepping stones</td>\n",
              "      <td>First time poster, long time lurker. \\n\\nI've had anxiety for over 6 years, and it's always been a crippling, miserable experience. I feel like I've lost out on so much of my life due to being too scared to pursue friendships past a \"hello\", and too self conscious to voice my opinion or be myself. \\nIt's still hard, I still can't fully be myself around many many people, and struggle to hold conversations without feeling like I'm being a burden, but recently I've made myself proud, and I thou...</td>\n",
              "      <td>Anxiety</td>\n",
              "    </tr>\n",
              "    <tr>\n",
              "      <th>4</th>\n",
              "      <td>Coping with anxiety over climate change, on the verge of considering suicide if this does not change</td>\n",
              "      <td>Hi all,\\n\\nI made a throwaway account as my main account is one that my friends and family know about. I've dealt with anxiety for around eight years. I had full blown panic attacks over the thought of non-existence for about 9 months straight and eventually got a hold of it. They've come back over time, with one stretch being about a month long, but I've learned to somewhat manage it when it happens. I still, from time to time, grapple with the fear of death though.\\n\\nLast year, I had abou...</td>\n",
              "      <td>Anxiety</td>\n",
              "    </tr>\n",
              "  </tbody>\n",
              "</table>\n",
              "</div>"
            ],
            "text/plain": [
              "                                                                                                  Title  \\\n",
              "0                                                                               exposure does not work!   \n",
              "1                                 Panic attack? derealization? can't go to doctors? Advice Appreciated!   \n",
              "2                                                                    How long can a panic attack last?!   \n",
              "3                                                                                       Stepping stones   \n",
              "4  Coping with anxiety over climate change, on the verge of considering suicide if this does not change   \n",
              "\n",
              "                                                                                                                                                                                                                                                                                                                                                                                                                                                                                                                  Text  \\\n",
              "0         I have struggled with social anxiety from childhood and the main advice from friends, self-help books and professionals is to expose myself to those environments but I'm not better off!\\n\\nExample: I get anxious every single time I go into a shop even though I have been doing my own shopping daily/ weekly since being 16.\\n\\nI get nervous, sweaty, heart pounding every time I go into the gym, yet I have been working out at the same gym for years.\\n\\nHas exposure not worked for anyone else?   \n",
              "1  Back in March (I know, a while ago D:), I woke up that day to go to school but I was feeling kind of 'off' I felt depressed, I didn't really feel like getting up or even seeing anyone. I have a history of this :P \\n// It's really on and off but it mainly happens in the winter time. I get highly anxious also going out anywhere during these periods of time, I get suspicious and paranoid of everyone or anything. I usually end up isolating myself in my room until it's all over and eat way less t...   \n",
              "2  I've been withdrawing from medicines lately (effexor, zyprexa and cymbalta) not all at the same time mind you, but they have been close together in withdraw. \\nThursday I had a major panic attack, so bad that I needed to take extra of my kolonopin and had to skip work Friday. It only lasted about 30mins, but I was shaky and felt sick the rest of the night. Now it's saturday, not quite two full days after the panic attack started and I still feel as I like to describe 'like a chihuahua', or l...   \n",
              "3  First time poster, long time lurker. \\n\\nI've had anxiety for over 6 years, and it's always been a crippling, miserable experience. I feel like I've lost out on so much of my life due to being too scared to pursue friendships past a \"hello\", and too self conscious to voice my opinion or be myself. \\nIt's still hard, I still can't fully be myself around many many people, and struggle to hold conversations without feeling like I'm being a burden, but recently I've made myself proud, and I thou...   \n",
              "4  Hi all,\\n\\nI made a throwaway account as my main account is one that my friends and family know about. I've dealt with anxiety for around eight years. I had full blown panic attacks over the thought of non-existence for about 9 months straight and eventually got a hold of it. They've come back over time, with one stretch being about a month long, but I've learned to somewhat manage it when it happens. I still, from time to time, grapple with the fear of death though.\\n\\nLast year, I had abou...   \n",
              "\n",
              "  Subreddit  \n",
              "0   Anxiety  \n",
              "1   Anxiety  \n",
              "2   Anxiety  \n",
              "3   Anxiety  \n",
              "4   Anxiety  "
            ]
          },
          "execution_count": 6,
          "metadata": {},
          "output_type": "execute_result"
        }
      ],
      "source": [
        "# Let us pre-process the data\n",
        "data= pd.read_csv(\"Mental-health-related-subreddits.csv\")\n",
        "pd.set_option('max_colwidth', 500)\n",
        "data.head(5)"
      ]
    },
    {
      "cell_type": "code",
      "execution_count": null,
      "metadata": {
        "id": "TSjgEh5a4y0w"
      },
      "outputs": [],
      "source": [
        "# Getting first 100000 rows\n",
        "data = data.sample(n=100000,replace=True)"
      ]
    },
    {
      "cell_type": "code",
      "execution_count": null,
      "metadata": {
        "colab": {
          "base_uri": "https://localhost:8080/",
          "height": 175
        },
        "id": "RWIfOvBL5TJh",
        "outputId": "d01a8788-82fc-4ea1-ee19-c58bf8b3d579"
      },
      "outputs": [
        {
          "data": {
            "text/html": [
              "<div>\n",
              "<style scoped>\n",
              "    .dataframe tbody tr th:only-of-type {\n",
              "        vertical-align: middle;\n",
              "    }\n",
              "\n",
              "    .dataframe tbody tr th {\n",
              "        vertical-align: top;\n",
              "    }\n",
              "\n",
              "    .dataframe thead th {\n",
              "        text-align: right;\n",
              "    }\n",
              "</style>\n",
              "<table border=\"1\" class=\"dataframe\">\n",
              "  <thead>\n",
              "    <tr style=\"text-align: right;\">\n",
              "      <th></th>\n",
              "      <th>Title</th>\n",
              "      <th>Text</th>\n",
              "      <th>Subreddit</th>\n",
              "    </tr>\n",
              "  </thead>\n",
              "  <tbody>\n",
              "    <tr>\n",
              "      <th>count</th>\n",
              "      <td>488468</td>\n",
              "      <td>488472</td>\n",
              "      <td>488469</td>\n",
              "    </tr>\n",
              "    <tr>\n",
              "      <th>unique</th>\n",
              "      <td>442580</td>\n",
              "      <td>484361</td>\n",
              "      <td>7</td>\n",
              "    </tr>\n",
              "    <tr>\n",
              "      <th>top</th>\n",
              "      <td>Help</td>\n",
              "      <td>MEGA THREAD. Here we discuss embarrassing stories, funny stories, WTF stories, and everything in between. Need to get something off your chest? Here's the place to do it. Not yet diagnosed and want to ask a question? Feel free to do it here. Pretty much anything goes in Fearless Fridays</td>\n",
              "      <td>depression</td>\n",
              "    </tr>\n",
              "    <tr>\n",
              "      <th>freq</th>\n",
              "      <td>457</td>\n",
              "      <td>103</td>\n",
              "      <td>258496</td>\n",
              "    </tr>\n",
              "  </tbody>\n",
              "</table>\n",
              "</div>"
            ],
            "text/plain": [
              "         Title  \\\n",
              "count   488468   \n",
              "unique  442580   \n",
              "top       Help   \n",
              "freq       457   \n",
              "\n",
              "                                                                                                                                                                                                                                                                                                   Text  \\\n",
              "count                                                                                                                                                                                                                                                                                            488472   \n",
              "unique                                                                                                                                                                                                                                                                                           484361   \n",
              "top     MEGA THREAD. Here we discuss embarrassing stories, funny stories, WTF stories, and everything in between. Need to get something off your chest? Here's the place to do it. Not yet diagnosed and want to ask a question? Feel free to do it here. Pretty much anything goes in Fearless Fridays   \n",
              "freq                                                                                                                                                                                                                                                                                                103   \n",
              "\n",
              "         Subreddit  \n",
              "count       488469  \n",
              "unique           7  \n",
              "top     depression  \n",
              "freq        258496  "
            ]
          },
          "execution_count": 8,
          "metadata": {},
          "output_type": "execute_result"
        }
      ],
      "source": [
        "data.describe()"
      ]
    },
    {
      "cell_type": "code",
      "execution_count": null,
      "metadata": {
        "colab": {
          "base_uri": "https://localhost:8080/",
          "height": 511
        },
        "id": "bUsFsUnQimoo",
        "outputId": "6e9e7dd5-96a1-4a42-adf1-e11d88a32b0a"
      },
      "outputs": [
        {
          "data": {
            "text/html": [
              "<div>\n",
              "<style scoped>\n",
              "    .dataframe tbody tr th:only-of-type {\n",
              "        vertical-align: middle;\n",
              "    }\n",
              "\n",
              "    .dataframe tbody tr th {\n",
              "        vertical-align: top;\n",
              "    }\n",
              "\n",
              "    .dataframe thead th {\n",
              "        text-align: right;\n",
              "    }\n",
              "</style>\n",
              "<table border=\"1\" class=\"dataframe\">\n",
              "  <thead>\n",
              "    <tr style=\"text-align: right;\">\n",
              "      <th></th>\n",
              "      <th>Content</th>\n",
              "      <th>Subreddit</th>\n",
              "    </tr>\n",
              "  </thead>\n",
              "  <tbody>\n",
              "    <tr>\n",
              "      <th>0</th>\n",
              "      <td>exposure does not work! I have struggled with social anxiety from childhood and the main advice from friends, self-help books and professionals is to expose myself to those environments but I'm not better off!\\n\\nExample: I get anxious every single time I go into a shop even though I have been doing my own shopping daily/ weekly since being 16.\\n\\nI get nervous, sweaty, heart pounding every time I go into the gym, yet I have been working out at the same gym for years.\\n\\nHas exposure not wor...</td>\n",
              "      <td>Anxiety</td>\n",
              "    </tr>\n",
              "    <tr>\n",
              "      <th>1</th>\n",
              "      <td>Panic attack? derealization? can't go to doctors? Advice Appreciated! Back in March (I know, a while ago D:), I woke up that day to go to school but I was feeling kind of 'off' I felt depressed, I didn't really feel like getting up or even seeing anyone. I have a history of this :P \\n// It's really on and off but it mainly happens in the winter time. I get highly anxious also going out anywhere during these periods of time, I get suspicious and paranoid of everyone or anything. I usually end...</td>\n",
              "      <td>Anxiety</td>\n",
              "    </tr>\n",
              "    <tr>\n",
              "      <th>2</th>\n",
              "      <td>How long can a panic attack last?! I've been withdrawing from medicines lately (effexor, zyprexa and cymbalta) not all at the same time mind you, but they have been close together in withdraw. \\nThursday I had a major panic attack, so bad that I needed to take extra of my kolonopin and had to skip work Friday. It only lasted about 30mins, but I was shaky and felt sick the rest of the night. Now it's saturday, not quite two full days after the panic attack started and I still feel as I like t...</td>\n",
              "      <td>Anxiety</td>\n",
              "    </tr>\n",
              "    <tr>\n",
              "      <th>3</th>\n",
              "      <td>Stepping stones First time poster, long time lurker. \\n\\nI've had anxiety for over 6 years, and it's always been a crippling, miserable experience. I feel like I've lost out on so much of my life due to being too scared to pursue friendships past a \"hello\", and too self conscious to voice my opinion or be myself. \\nIt's still hard, I still can't fully be myself around many many people, and struggle to hold conversations without feeling like I'm being a burden, but recently I've made myself p...</td>\n",
              "      <td>Anxiety</td>\n",
              "    </tr>\n",
              "    <tr>\n",
              "      <th>4</th>\n",
              "      <td>Coping with anxiety over climate change, on the verge of considering suicide if this does not change Hi all,\\n\\nI made a throwaway account as my main account is one that my friends and family know about. I've dealt with anxiety for around eight years. I had full blown panic attacks over the thought of non-existence for about 9 months straight and eventually got a hold of it. They've come back over time, with one stretch being about a month long, but I've learned to somewhat manage it when it...</td>\n",
              "      <td>Anxiety</td>\n",
              "    </tr>\n",
              "  </tbody>\n",
              "</table>\n",
              "</div>"
            ],
            "text/plain": [
              "                                                                                                                                                                                                                                                                                                                                                                                                                                                                                                               Content  \\\n",
              "0  exposure does not work! I have struggled with social anxiety from childhood and the main advice from friends, self-help books and professionals is to expose myself to those environments but I'm not better off!\\n\\nExample: I get anxious every single time I go into a shop even though I have been doing my own shopping daily/ weekly since being 16.\\n\\nI get nervous, sweaty, heart pounding every time I go into the gym, yet I have been working out at the same gym for years.\\n\\nHas exposure not wor...   \n",
              "1  Panic attack? derealization? can't go to doctors? Advice Appreciated! Back in March (I know, a while ago D:), I woke up that day to go to school but I was feeling kind of 'off' I felt depressed, I didn't really feel like getting up or even seeing anyone. I have a history of this :P \\n// It's really on and off but it mainly happens in the winter time. I get highly anxious also going out anywhere during these periods of time, I get suspicious and paranoid of everyone or anything. I usually end...   \n",
              "2  How long can a panic attack last?! I've been withdrawing from medicines lately (effexor, zyprexa and cymbalta) not all at the same time mind you, but they have been close together in withdraw. \\nThursday I had a major panic attack, so bad that I needed to take extra of my kolonopin and had to skip work Friday. It only lasted about 30mins, but I was shaky and felt sick the rest of the night. Now it's saturday, not quite two full days after the panic attack started and I still feel as I like t...   \n",
              "3  Stepping stones First time poster, long time lurker. \\n\\nI've had anxiety for over 6 years, and it's always been a crippling, miserable experience. I feel like I've lost out on so much of my life due to being too scared to pursue friendships past a \"hello\", and too self conscious to voice my opinion or be myself. \\nIt's still hard, I still can't fully be myself around many many people, and struggle to hold conversations without feeling like I'm being a burden, but recently I've made myself p...   \n",
              "4  Coping with anxiety over climate change, on the verge of considering suicide if this does not change Hi all,\\n\\nI made a throwaway account as my main account is one that my friends and family know about. I've dealt with anxiety for around eight years. I had full blown panic attacks over the thought of non-existence for about 9 months straight and eventually got a hold of it. They've come back over time, with one stretch being about a month long, but I've learned to somewhat manage it when it...   \n",
              "\n",
              "  Subreddit  \n",
              "0   Anxiety  \n",
              "1   Anxiety  \n",
              "2   Anxiety  \n",
              "3   Anxiety  \n",
              "4   Anxiety  "
            ]
          },
          "execution_count": 9,
          "metadata": {},
          "output_type": "execute_result"
        }
      ],
      "source": [
        "#merge data columns and rename the final column\n",
        "data[\"Title\"] = data[\"Title\"] + \" \" + data[\"Text\"]\n",
        "data.drop('Text', inplace=True, axis=1)\n",
        "data.rename(columns={\"Title\": \"Content\"}, inplace=True)\n",
        "data.head()\n"
      ]
    },
    {
      "cell_type": "code",
      "execution_count": null,
      "metadata": {
        "id": "1twWJHnAjz_P"
      },
      "outputs": [],
      "source": [
        "data = data[['Subreddit', 'Content']]"
      ]
    },
    {
      "cell_type": "code",
      "execution_count": null,
      "metadata": {
        "colab": {
          "base_uri": "https://localhost:8080/",
          "height": 511
        },
        "id": "UYUY4UFFj_tF",
        "outputId": "228776c3-3c7b-4708-d16b-7a748ac72778"
      },
      "outputs": [
        {
          "data": {
            "text/html": [
              "<div>\n",
              "<style scoped>\n",
              "    .dataframe tbody tr th:only-of-type {\n",
              "        vertical-align: middle;\n",
              "    }\n",
              "\n",
              "    .dataframe tbody tr th {\n",
              "        vertical-align: top;\n",
              "    }\n",
              "\n",
              "    .dataframe thead th {\n",
              "        text-align: right;\n",
              "    }\n",
              "</style>\n",
              "<table border=\"1\" class=\"dataframe\">\n",
              "  <thead>\n",
              "    <tr style=\"text-align: right;\">\n",
              "      <th></th>\n",
              "      <th>Subreddit</th>\n",
              "      <th>Content</th>\n",
              "    </tr>\n",
              "  </thead>\n",
              "  <tbody>\n",
              "    <tr>\n",
              "      <th>0</th>\n",
              "      <td>Anxiety</td>\n",
              "      <td>exposure does not work! I have struggled with social anxiety from childhood and the main advice from friends, self-help books and professionals is to expose myself to those environments but I'm not better off!\\n\\nExample: I get anxious every single time I go into a shop even though I have been doing my own shopping daily/ weekly since being 16.\\n\\nI get nervous, sweaty, heart pounding every time I go into the gym, yet I have been working out at the same gym for years.\\n\\nHas exposure not wor...</td>\n",
              "    </tr>\n",
              "    <tr>\n",
              "      <th>1</th>\n",
              "      <td>Anxiety</td>\n",
              "      <td>Panic attack? derealization? can't go to doctors? Advice Appreciated! Back in March (I know, a while ago D:), I woke up that day to go to school but I was feeling kind of 'off' I felt depressed, I didn't really feel like getting up or even seeing anyone. I have a history of this :P \\n// It's really on and off but it mainly happens in the winter time. I get highly anxious also going out anywhere during these periods of time, I get suspicious and paranoid of everyone or anything. I usually end...</td>\n",
              "    </tr>\n",
              "    <tr>\n",
              "      <th>2</th>\n",
              "      <td>Anxiety</td>\n",
              "      <td>How long can a panic attack last?! I've been withdrawing from medicines lately (effexor, zyprexa and cymbalta) not all at the same time mind you, but they have been close together in withdraw. \\nThursday I had a major panic attack, so bad that I needed to take extra of my kolonopin and had to skip work Friday. It only lasted about 30mins, but I was shaky and felt sick the rest of the night. Now it's saturday, not quite two full days after the panic attack started and I still feel as I like t...</td>\n",
              "    </tr>\n",
              "    <tr>\n",
              "      <th>3</th>\n",
              "      <td>Anxiety</td>\n",
              "      <td>Stepping stones First time poster, long time lurker. \\n\\nI've had anxiety for over 6 years, and it's always been a crippling, miserable experience. I feel like I've lost out on so much of my life due to being too scared to pursue friendships past a \"hello\", and too self conscious to voice my opinion or be myself. \\nIt's still hard, I still can't fully be myself around many many people, and struggle to hold conversations without feeling like I'm being a burden, but recently I've made myself p...</td>\n",
              "    </tr>\n",
              "    <tr>\n",
              "      <th>4</th>\n",
              "      <td>Anxiety</td>\n",
              "      <td>Coping with anxiety over climate change, on the verge of considering suicide if this does not change Hi all,\\n\\nI made a throwaway account as my main account is one that my friends and family know about. I've dealt with anxiety for around eight years. I had full blown panic attacks over the thought of non-existence for about 9 months straight and eventually got a hold of it. They've come back over time, with one stretch being about a month long, but I've learned to somewhat manage it when it...</td>\n",
              "    </tr>\n",
              "  </tbody>\n",
              "</table>\n",
              "</div>"
            ],
            "text/plain": [
              "  Subreddit  \\\n",
              "0   Anxiety   \n",
              "1   Anxiety   \n",
              "2   Anxiety   \n",
              "3   Anxiety   \n",
              "4   Anxiety   \n",
              "\n",
              "                                                                                                                                                                                                                                                                                                                                                                                                                                                                                                               Content  \n",
              "0  exposure does not work! I have struggled with social anxiety from childhood and the main advice from friends, self-help books and professionals is to expose myself to those environments but I'm not better off!\\n\\nExample: I get anxious every single time I go into a shop even though I have been doing my own shopping daily/ weekly since being 16.\\n\\nI get nervous, sweaty, heart pounding every time I go into the gym, yet I have been working out at the same gym for years.\\n\\nHas exposure not wor...  \n",
              "1  Panic attack? derealization? can't go to doctors? Advice Appreciated! Back in March (I know, a while ago D:), I woke up that day to go to school but I was feeling kind of 'off' I felt depressed, I didn't really feel like getting up or even seeing anyone. I have a history of this :P \\n// It's really on and off but it mainly happens in the winter time. I get highly anxious also going out anywhere during these periods of time, I get suspicious and paranoid of everyone or anything. I usually end...  \n",
              "2  How long can a panic attack last?! I've been withdrawing from medicines lately (effexor, zyprexa and cymbalta) not all at the same time mind you, but they have been close together in withdraw. \\nThursday I had a major panic attack, so bad that I needed to take extra of my kolonopin and had to skip work Friday. It only lasted about 30mins, but I was shaky and felt sick the rest of the night. Now it's saturday, not quite two full days after the panic attack started and I still feel as I like t...  \n",
              "3  Stepping stones First time poster, long time lurker. \\n\\nI've had anxiety for over 6 years, and it's always been a crippling, miserable experience. I feel like I've lost out on so much of my life due to being too scared to pursue friendships past a \"hello\", and too self conscious to voice my opinion or be myself. \\nIt's still hard, I still can't fully be myself around many many people, and struggle to hold conversations without feeling like I'm being a burden, but recently I've made myself p...  \n",
              "4  Coping with anxiety over climate change, on the verge of considering suicide if this does not change Hi all,\\n\\nI made a throwaway account as my main account is one that my friends and family know about. I've dealt with anxiety for around eight years. I had full blown panic attacks over the thought of non-existence for about 9 months straight and eventually got a hold of it. They've come back over time, with one stretch being about a month long, but I've learned to somewhat manage it when it...  "
            ]
          },
          "execution_count": 11,
          "metadata": {},
          "output_type": "execute_result"
        }
      ],
      "source": [
        "data.head()"
      ]
    },
    {
      "cell_type": "code",
      "execution_count": null,
      "metadata": {
        "colab": {
          "base_uri": "https://localhost:8080/",
          "height": 254
        },
        "id": "mlgT82gxjG85",
        "outputId": "6d9712ab-cc80-4f1c-a14b-ab2ddc61b548"
      },
      "outputs": [
        {
          "data": {
            "text/html": [
              "<div>\n",
              "<style scoped>\n",
              "    .dataframe tbody tr th:only-of-type {\n",
              "        vertical-align: middle;\n",
              "    }\n",
              "\n",
              "    .dataframe tbody tr th {\n",
              "        vertical-align: top;\n",
              "    }\n",
              "\n",
              "    .dataframe thead th {\n",
              "        text-align: right;\n",
              "    }\n",
              "</style>\n",
              "<table border=\"1\" class=\"dataframe\">\n",
              "  <thead>\n",
              "    <tr style=\"text-align: right;\">\n",
              "      <th></th>\n",
              "      <th>Subreddit</th>\n",
              "      <th>Content</th>\n",
              "    </tr>\n",
              "  </thead>\n",
              "  <tbody>\n",
              "    <tr>\n",
              "      <th>count</th>\n",
              "      <td>488469</td>\n",
              "      <td>488468</td>\n",
              "    </tr>\n",
              "    <tr>\n",
              "      <th>unique</th>\n",
              "      <td>7</td>\n",
              "      <td>486850</td>\n",
              "    </tr>\n",
              "    <tr>\n",
              "      <th>top</th>\n",
              "      <td>depression</td>\n",
              "      <td>FEARLESS FRIDAYS MEGA THREAD. Here we discuss embarrassing stories, funny stories, WTF stories, and everything in between. Need to get something off your chest? Here's the place to do it. Not yet diagnosed and want to ask a question? Feel free to do it here. Pretty much anything goes in Fearless Fridays</td>\n",
              "    </tr>\n",
              "    <tr>\n",
              "      <th>freq</th>\n",
              "      <td>258496</td>\n",
              "      <td>103</td>\n",
              "    </tr>\n",
              "  </tbody>\n",
              "</table>\n",
              "</div>"
            ],
            "text/plain": [
              "         Subreddit  \\\n",
              "count       488469   \n",
              "unique           7   \n",
              "top     depression   \n",
              "freq        258496   \n",
              "\n",
              "                                                                                                                                                                                                                                                                                                                 Content  \n",
              "count                                                                                                                                                                                                                                                                                                             488468  \n",
              "unique                                                                                                                                                                                                                                                                                                            486850  \n",
              "top     FEARLESS FRIDAYS MEGA THREAD. Here we discuss embarrassing stories, funny stories, WTF stories, and everything in between. Need to get something off your chest? Here's the place to do it. Not yet diagnosed and want to ask a question? Feel free to do it here. Pretty much anything goes in Fearless Fridays  \n",
              "freq                                                                                                                                                                                                                                                                                                                 103  "
            ]
          },
          "execution_count": 12,
          "metadata": {},
          "output_type": "execute_result"
        }
      ],
      "source": [
        "data.describe()"
      ]
    },
    {
      "cell_type": "code",
      "execution_count": null,
      "metadata": {
        "colab": {
          "base_uri": "https://localhost:8080/"
        },
        "id": "bcTAQ5tfkIJb",
        "outputId": "d94baf18-3128-467a-fc88-648921bd66f0"
      },
      "outputs": [
        {
          "name": "stdout",
          "output_type": "stream",
          "text": [
            "<class 'pandas.core.frame.DataFrame'>\n",
            "RangeIndex: 488472 entries, 0 to 488471\n",
            "Data columns (total 2 columns):\n",
            " #   Column     Non-Null Count   Dtype \n",
            "---  ------     --------------   ----- \n",
            " 0   Subreddit  488469 non-null  object\n",
            " 1   Content    488468 non-null  object\n",
            "dtypes: object(2)\n",
            "memory usage: 7.5+ MB\n"
          ]
        }
      ],
      "source": [
        "data.info()"
      ]
    },
    {
      "cell_type": "code",
      "execution_count": null,
      "metadata": {
        "id": "W_EiMUWNkLbn"
      },
      "outputs": [],
      "source": [
        "data = data.dropna()"
      ]
    },
    {
      "cell_type": "code",
      "execution_count": null,
      "metadata": {
        "colab": {
          "base_uri": "https://localhost:8080/"
        },
        "id": "VzZszGNNkubo",
        "outputId": "174b5cf4-03b4-4229-f3be-cba1442c9ea0"
      },
      "outputs": [
        {
          "name": "stdout",
          "output_type": "stream",
          "text": [
            "<class 'pandas.core.frame.DataFrame'>\n",
            "Int64Index: 488468 entries, 0 to 488471\n",
            "Data columns (total 2 columns):\n",
            " #   Column     Non-Null Count   Dtype \n",
            "---  ------     --------------   ----- \n",
            " 0   Subreddit  488468 non-null  object\n",
            " 1   Content    488468 non-null  object\n",
            "dtypes: object(2)\n",
            "memory usage: 11.2+ MB\n"
          ]
        }
      ],
      "source": [
        "data.info()"
      ]
    },
    {
      "cell_type": "code",
      "execution_count": null,
      "metadata": {
        "colab": {
          "base_uri": "https://localhost:8080/"
        },
        "id": "Axt3wsU_k0I-",
        "outputId": "23d15ba8-bb15-4cf8-bae9-fe26c7ace0a7"
      },
      "outputs": [
        {
          "data": {
            "text/plain": [
              "depression       258495\n",
              "Anxiety           86243\n",
              "bipolar           41493\n",
              "mentalhealth      39373\n",
              "BPD               38216\n",
              "schizophrenia     17506\n",
              "autism             7142\n",
              "Name: Subreddit, dtype: int64"
            ]
          },
          "execution_count": 16,
          "metadata": {},
          "output_type": "execute_result"
        }
      ],
      "source": [
        "data.Subreddit.value_counts()"
      ]
    },
    {
      "cell_type": "code",
      "execution_count": null,
      "metadata": {
        "colab": {
          "base_uri": "https://localhost:8080/",
          "height": 143
        },
        "id": "deReObbXmPO4",
        "outputId": "35aca5be-2102-4f23-d183-8e1ebe29f257"
      },
      "outputs": [
        {
          "data": {
            "text/html": [
              "<div>\n",
              "<style scoped>\n",
              "    .dataframe tbody tr th:only-of-type {\n",
              "        vertical-align: middle;\n",
              "    }\n",
              "\n",
              "    .dataframe tbody tr th {\n",
              "        vertical-align: top;\n",
              "    }\n",
              "\n",
              "    .dataframe thead th {\n",
              "        text-align: right;\n",
              "    }\n",
              "</style>\n",
              "<table border=\"1\" class=\"dataframe\">\n",
              "  <thead>\n",
              "    <tr style=\"text-align: right;\">\n",
              "      <th></th>\n",
              "      <th>ex1</th>\n",
              "      <th>ex2</th>\n",
              "    </tr>\n",
              "  </thead>\n",
              "  <tbody>\n",
              "    <tr>\n",
              "      <th>0</th>\n",
              "      <td>1</td>\n",
              "      <td>1</td>\n",
              "    </tr>\n",
              "    <tr>\n",
              "      <th>1</th>\n",
              "      <td>1</td>\n",
              "      <td>2</td>\n",
              "    </tr>\n",
              "    <tr>\n",
              "      <th>2</th>\n",
              "      <td>4</td>\n",
              "      <td>5</td>\n",
              "    </tr>\n",
              "  </tbody>\n",
              "</table>\n",
              "</div>"
            ],
            "text/plain": [
              "   ex1  ex2\n",
              "0    1    1\n",
              "1    1    2\n",
              "2    4    5"
            ]
          },
          "execution_count": 17,
          "metadata": {},
          "output_type": "execute_result"
        }
      ],
      "source": [
        "exampleArray = np.array([[1,1],[1,2],[4,5]])\n",
        "exampleFrame = pd.DataFrame(exampleArray,columns=[\"ex1\",\"ex2\"])\n",
        "exampleFrame"
      ]
    },
    {
      "cell_type": "code",
      "execution_count": null,
      "metadata": {
        "colab": {
          "base_uri": "https://localhost:8080/"
        },
        "id": "FtvSPr3KmdmY",
        "outputId": "dab8d444-629f-43da-a2b3-a07eefa136f7"
      },
      "outputs": [
        {
          "name": "stdout",
          "output_type": "stream",
          "text": [
            "Without ignore_index\n",
            "   ex1  ex2\n",
            "0    1    1\n",
            "2    4    5\n",
            "With ignore_index\n",
            "   ex1  ex2\n",
            "0    1    1\n",
            "1    4    5\n"
          ]
        }
      ],
      "source": [
        "ex1 = exampleFrame.drop_duplicates(subset=\"ex1\",keep=\"first\")\n",
        "print(\"Without ignore_index\")\n",
        "print(ex1)\n",
        "ex2 = exampleFrame.drop_duplicates(subset=\"ex1\",keep=\"first\",ignore_index=True)\n",
        "print(\"With ignore_index\")\n",
        "print(ex2)"
      ]
    },
    {
      "cell_type": "code",
      "execution_count": null,
      "metadata": {
        "colab": {
          "base_uri": "https://localhost:8080/"
        },
        "id": "Zl7gbLD2m977",
        "outputId": "8b38eea1-99dd-4221-dac3-39337539466d"
      },
      "outputs": [
        {
          "data": {
            "text/plain": [
              "False    486850\n",
              "True       1618\n",
              "Name: Content, dtype: int64"
            ]
          },
          "execution_count": 19,
          "metadata": {},
          "output_type": "execute_result"
        }
      ],
      "source": [
        "data.Content.duplicated(keep=\"first\").value_counts()"
      ]
    },
    {
      "cell_type": "code",
      "execution_count": null,
      "metadata": {
        "colab": {
          "base_uri": "https://localhost:8080/",
          "height": 271
        },
        "id": "UPCbf4o0m96f",
        "outputId": "5cc1a3b4-d801-4b27-fafa-a67adc18d1ce"
      },
      "outputs": [
        {
          "data": {
            "text/html": [
              "<div>\n",
              "<style scoped>\n",
              "    .dataframe tbody tr th:only-of-type {\n",
              "        vertical-align: middle;\n",
              "    }\n",
              "\n",
              "    .dataframe tbody tr th {\n",
              "        vertical-align: top;\n",
              "    }\n",
              "\n",
              "    .dataframe thead th {\n",
              "        text-align: right;\n",
              "    }\n",
              "</style>\n",
              "<table border=\"1\" class=\"dataframe\">\n",
              "  <thead>\n",
              "    <tr style=\"text-align: right;\">\n",
              "      <th></th>\n",
              "      <th>Subreddit</th>\n",
              "      <th>Content</th>\n",
              "    </tr>\n",
              "  </thead>\n",
              "  <tbody>\n",
              "    <tr>\n",
              "      <th>count</th>\n",
              "      <td>486850</td>\n",
              "      <td>486850</td>\n",
              "    </tr>\n",
              "    <tr>\n",
              "      <th>unique</th>\n",
              "      <td>7</td>\n",
              "      <td>486850</td>\n",
              "    </tr>\n",
              "    <tr>\n",
              "      <th>top</th>\n",
              "      <td>depression</td>\n",
              "      <td>exposure does not work! I have struggled with social anxiety from childhood and the main advice from friends, self-help books and professionals is to expose myself to those environments but I'm not better off!\\n\\nExample: I get anxious every single time I go into a shop even though I have been doing my own shopping daily/ weekly since being 16.\\n\\nI get nervous, sweaty, heart pounding every time I go into the gym, yet I have been working out at the same gym for years.\\n\\nHas exposure not wor...</td>\n",
              "    </tr>\n",
              "    <tr>\n",
              "      <th>freq</th>\n",
              "      <td>257982</td>\n",
              "      <td>1</td>\n",
              "    </tr>\n",
              "  </tbody>\n",
              "</table>\n",
              "</div>"
            ],
            "text/plain": [
              "         Subreddit  \\\n",
              "count       486850   \n",
              "unique           7   \n",
              "top     depression   \n",
              "freq        257982   \n",
              "\n",
              "                                                                                                                                                                                                                                                                                                                                                                                                                                                                                                                    Content  \n",
              "count                                                                                                                                                                                                                                                                                                                                                                                                                                                                                                                486850  \n",
              "unique                                                                                                                                                                                                                                                                                                                                                                                                                                                                                                               486850  \n",
              "top     exposure does not work! I have struggled with social anxiety from childhood and the main advice from friends, self-help books and professionals is to expose myself to those environments but I'm not better off!\\n\\nExample: I get anxious every single time I go into a shop even though I have been doing my own shopping daily/ weekly since being 16.\\n\\nI get nervous, sweaty, heart pounding every time I go into the gym, yet I have been working out at the same gym for years.\\n\\nHas exposure not wor...  \n",
              "freq                                                                                                                                                                                                                                                                                                                                                                                                                                                                                                                      1  "
            ]
          },
          "execution_count": 20,
          "metadata": {},
          "output_type": "execute_result"
        }
      ],
      "source": [
        "data.drop_duplicates(subset=\"Content\",keep=\"first\",inplace=True,ignore_index=True)\n",
        "data.describe()"
      ]
    },
    {
      "cell_type": "code",
      "execution_count": null,
      "metadata": {
        "colab": {
          "base_uri": "https://localhost:8080/",
          "height": 542
        },
        "id": "xlEvcXj2nUWq",
        "outputId": "0e527471-b1de-410b-9e7b-dba825879471"
      },
      "outputs": [
        {
          "data": {
            "text/html": [
              "        <script type=\"text/javascript\">\n",
              "        window.PlotlyConfig = {MathJaxConfig: 'local'};\n",
              "        if (window.MathJax && window.MathJax.Hub && window.MathJax.Hub.Config) {window.MathJax.Hub.Config({SVG: {font: \"STIX-Web\"}});}\n",
              "        if (typeof require !== 'undefined') {\n",
              "        require.undef(\"plotly\");\n",
              "        requirejs.config({\n",
              "            paths: {\n",
              "                'plotly': ['https://cdn.plot.ly/plotly-2.12.1.min']\n",
              "            }\n",
              "        });\n",
              "        require(['plotly'], function(Plotly) {\n",
              "            window._Plotly = Plotly;\n",
              "        });\n",
              "        }\n",
              "        </script>\n",
              "        "
            ]
          },
          "metadata": {},
          "output_type": "display_data"
        },
        {
          "data": {
            "application/vnd.plotly.v1+json": {
              "config": {
                "linkText": "Export to plot.ly",
                "plotlyServerURL": "https://plot.ly",
                "showLink": false
              },
              "data": [
                {
                  "alignmentgroup": "True",
                  "hovertemplate": "Category:'%{x}' Counted: %{y}",
                  "legendgroup": "depression",
                  "marker": {
                    "color": "#636efa",
                    "pattern": {
                      "shape": ""
                    }
                  },
                  "name": "depression",
                  "offsetgroup": "depression",
                  "orientation": "v",
                  "showlegend": true,
                  "text": [
                    257982
                  ],
                  "textposition": "auto",
                  "type": "bar",
                  "x": [
                    "depression"
                  ],
                  "xaxis": "x",
                  "y": [
                    257982
                  ],
                  "yaxis": "y"
                },
                {
                  "alignmentgroup": "True",
                  "hovertemplate": "Category:'%{x}' Counted: %{y}",
                  "legendgroup": "Anxiety",
                  "marker": {
                    "color": "#EF553B",
                    "pattern": {
                      "shape": ""
                    }
                  },
                  "name": "Anxiety",
                  "offsetgroup": "Anxiety",
                  "orientation": "v",
                  "showlegend": true,
                  "text": [
                    86132
                  ],
                  "textposition": "auto",
                  "type": "bar",
                  "x": [
                    "Anxiety"
                  ],
                  "xaxis": "x",
                  "y": [
                    86132
                  ],
                  "yaxis": "y"
                },
                {
                  "alignmentgroup": "True",
                  "hovertemplate": "Category:'%{x}' Counted: %{y}",
                  "legendgroup": "bipolar",
                  "marker": {
                    "color": "#00cc96",
                    "pattern": {
                      "shape": ""
                    }
                  },
                  "name": "bipolar",
                  "offsetgroup": "bipolar",
                  "orientation": "v",
                  "showlegend": true,
                  "text": [
                    41034
                  ],
                  "textposition": "auto",
                  "type": "bar",
                  "x": [
                    "bipolar"
                  ],
                  "xaxis": "x",
                  "y": [
                    41034
                  ],
                  "yaxis": "y"
                },
                {
                  "alignmentgroup": "True",
                  "hovertemplate": "Category:'%{x}' Counted: %{y}",
                  "legendgroup": "mentalhealth",
                  "marker": {
                    "color": "#ab63fa",
                    "pattern": {
                      "shape": ""
                    }
                  },
                  "name": "mentalhealth",
                  "offsetgroup": "mentalhealth",
                  "orientation": "v",
                  "showlegend": true,
                  "text": [
                    38997
                  ],
                  "textposition": "auto",
                  "type": "bar",
                  "x": [
                    "mentalhealth"
                  ],
                  "xaxis": "x",
                  "y": [
                    38997
                  ],
                  "yaxis": "y"
                },
                {
                  "alignmentgroup": "True",
                  "hovertemplate": "Category:'%{x}' Counted: %{y}",
                  "legendgroup": "BPD",
                  "marker": {
                    "color": "#FFA15A",
                    "pattern": {
                      "shape": ""
                    }
                  },
                  "name": "BPD",
                  "offsetgroup": "BPD",
                  "orientation": "v",
                  "showlegend": true,
                  "text": [
                    38137
                  ],
                  "textposition": "auto",
                  "type": "bar",
                  "x": [
                    "BPD"
                  ],
                  "xaxis": "x",
                  "y": [
                    38137
                  ],
                  "yaxis": "y"
                },
                {
                  "alignmentgroup": "True",
                  "hovertemplate": "Category:'%{x}' Counted: %{y}",
                  "legendgroup": "schizophrenia",
                  "marker": {
                    "color": "#19d3f3",
                    "pattern": {
                      "shape": ""
                    }
                  },
                  "name": "schizophrenia",
                  "offsetgroup": "schizophrenia",
                  "orientation": "v",
                  "showlegend": true,
                  "text": [
                    17436
                  ],
                  "textposition": "auto",
                  "type": "bar",
                  "x": [
                    "schizophrenia"
                  ],
                  "xaxis": "x",
                  "y": [
                    17436
                  ],
                  "yaxis": "y"
                },
                {
                  "alignmentgroup": "True",
                  "hovertemplate": "Category:'%{x}' Counted: %{y}",
                  "legendgroup": "autism",
                  "marker": {
                    "color": "#FF6692",
                    "pattern": {
                      "shape": ""
                    }
                  },
                  "name": "autism",
                  "offsetgroup": "autism",
                  "orientation": "v",
                  "showlegend": true,
                  "text": [
                    7132
                  ],
                  "textposition": "auto",
                  "type": "bar",
                  "x": [
                    "autism"
                  ],
                  "xaxis": "x",
                  "y": [
                    7132
                  ],
                  "yaxis": "y"
                }
              ],
              "layout": {
                "barmode": "relative",
                "legend": {
                  "title": {
                    "text": "color"
                  },
                  "tracegroupgap": 0
                },
                "margin": {
                  "t": 60
                },
                "plot_bgcolor": "white",
                "showlegend": false,
                "template": {
                  "data": {
                    "bar": [
                      {
                        "error_x": {
                          "color": "#2a3f5f"
                        },
                        "error_y": {
                          "color": "#2a3f5f"
                        },
                        "marker": {
                          "line": {
                            "color": "#E5ECF6",
                            "width": 0.5
                          },
                          "pattern": {
                            "fillmode": "overlay",
                            "size": 10,
                            "solidity": 0.2
                          }
                        },
                        "type": "bar"
                      }
                    ],
                    "barpolar": [
                      {
                        "marker": {
                          "line": {
                            "color": "#E5ECF6",
                            "width": 0.5
                          },
                          "pattern": {
                            "fillmode": "overlay",
                            "size": 10,
                            "solidity": 0.2
                          }
                        },
                        "type": "barpolar"
                      }
                    ],
                    "carpet": [
                      {
                        "aaxis": {
                          "endlinecolor": "#2a3f5f",
                          "gridcolor": "white",
                          "linecolor": "white",
                          "minorgridcolor": "white",
                          "startlinecolor": "#2a3f5f"
                        },
                        "baxis": {
                          "endlinecolor": "#2a3f5f",
                          "gridcolor": "white",
                          "linecolor": "white",
                          "minorgridcolor": "white",
                          "startlinecolor": "#2a3f5f"
                        },
                        "type": "carpet"
                      }
                    ],
                    "choropleth": [
                      {
                        "colorbar": {
                          "outlinewidth": 0,
                          "ticks": ""
                        },
                        "type": "choropleth"
                      }
                    ],
                    "contour": [
                      {
                        "colorbar": {
                          "outlinewidth": 0,
                          "ticks": ""
                        },
                        "colorscale": [
                          [
                            0,
                            "#0d0887"
                          ],
                          [
                            0.1111111111111111,
                            "#46039f"
                          ],
                          [
                            0.2222222222222222,
                            "#7201a8"
                          ],
                          [
                            0.3333333333333333,
                            "#9c179e"
                          ],
                          [
                            0.4444444444444444,
                            "#bd3786"
                          ],
                          [
                            0.5555555555555556,
                            "#d8576b"
                          ],
                          [
                            0.6666666666666666,
                            "#ed7953"
                          ],
                          [
                            0.7777777777777778,
                            "#fb9f3a"
                          ],
                          [
                            0.8888888888888888,
                            "#fdca26"
                          ],
                          [
                            1,
                            "#f0f921"
                          ]
                        ],
                        "type": "contour"
                      }
                    ],
                    "contourcarpet": [
                      {
                        "colorbar": {
                          "outlinewidth": 0,
                          "ticks": ""
                        },
                        "type": "contourcarpet"
                      }
                    ],
                    "heatmap": [
                      {
                        "colorbar": {
                          "outlinewidth": 0,
                          "ticks": ""
                        },
                        "colorscale": [
                          [
                            0,
                            "#0d0887"
                          ],
                          [
                            0.1111111111111111,
                            "#46039f"
                          ],
                          [
                            0.2222222222222222,
                            "#7201a8"
                          ],
                          [
                            0.3333333333333333,
                            "#9c179e"
                          ],
                          [
                            0.4444444444444444,
                            "#bd3786"
                          ],
                          [
                            0.5555555555555556,
                            "#d8576b"
                          ],
                          [
                            0.6666666666666666,
                            "#ed7953"
                          ],
                          [
                            0.7777777777777778,
                            "#fb9f3a"
                          ],
                          [
                            0.8888888888888888,
                            "#fdca26"
                          ],
                          [
                            1,
                            "#f0f921"
                          ]
                        ],
                        "type": "heatmap"
                      }
                    ],
                    "heatmapgl": [
                      {
                        "colorbar": {
                          "outlinewidth": 0,
                          "ticks": ""
                        },
                        "colorscale": [
                          [
                            0,
                            "#0d0887"
                          ],
                          [
                            0.1111111111111111,
                            "#46039f"
                          ],
                          [
                            0.2222222222222222,
                            "#7201a8"
                          ],
                          [
                            0.3333333333333333,
                            "#9c179e"
                          ],
                          [
                            0.4444444444444444,
                            "#bd3786"
                          ],
                          [
                            0.5555555555555556,
                            "#d8576b"
                          ],
                          [
                            0.6666666666666666,
                            "#ed7953"
                          ],
                          [
                            0.7777777777777778,
                            "#fb9f3a"
                          ],
                          [
                            0.8888888888888888,
                            "#fdca26"
                          ],
                          [
                            1,
                            "#f0f921"
                          ]
                        ],
                        "type": "heatmapgl"
                      }
                    ],
                    "histogram": [
                      {
                        "marker": {
                          "pattern": {
                            "fillmode": "overlay",
                            "size": 10,
                            "solidity": 0.2
                          }
                        },
                        "type": "histogram"
                      }
                    ],
                    "histogram2d": [
                      {
                        "colorbar": {
                          "outlinewidth": 0,
                          "ticks": ""
                        },
                        "colorscale": [
                          [
                            0,
                            "#0d0887"
                          ],
                          [
                            0.1111111111111111,
                            "#46039f"
                          ],
                          [
                            0.2222222222222222,
                            "#7201a8"
                          ],
                          [
                            0.3333333333333333,
                            "#9c179e"
                          ],
                          [
                            0.4444444444444444,
                            "#bd3786"
                          ],
                          [
                            0.5555555555555556,
                            "#d8576b"
                          ],
                          [
                            0.6666666666666666,
                            "#ed7953"
                          ],
                          [
                            0.7777777777777778,
                            "#fb9f3a"
                          ],
                          [
                            0.8888888888888888,
                            "#fdca26"
                          ],
                          [
                            1,
                            "#f0f921"
                          ]
                        ],
                        "type": "histogram2d"
                      }
                    ],
                    "histogram2dcontour": [
                      {
                        "colorbar": {
                          "outlinewidth": 0,
                          "ticks": ""
                        },
                        "colorscale": [
                          [
                            0,
                            "#0d0887"
                          ],
                          [
                            0.1111111111111111,
                            "#46039f"
                          ],
                          [
                            0.2222222222222222,
                            "#7201a8"
                          ],
                          [
                            0.3333333333333333,
                            "#9c179e"
                          ],
                          [
                            0.4444444444444444,
                            "#bd3786"
                          ],
                          [
                            0.5555555555555556,
                            "#d8576b"
                          ],
                          [
                            0.6666666666666666,
                            "#ed7953"
                          ],
                          [
                            0.7777777777777778,
                            "#fb9f3a"
                          ],
                          [
                            0.8888888888888888,
                            "#fdca26"
                          ],
                          [
                            1,
                            "#f0f921"
                          ]
                        ],
                        "type": "histogram2dcontour"
                      }
                    ],
                    "mesh3d": [
                      {
                        "colorbar": {
                          "outlinewidth": 0,
                          "ticks": ""
                        },
                        "type": "mesh3d"
                      }
                    ],
                    "parcoords": [
                      {
                        "line": {
                          "colorbar": {
                            "outlinewidth": 0,
                            "ticks": ""
                          }
                        },
                        "type": "parcoords"
                      }
                    ],
                    "pie": [
                      {
                        "automargin": true,
                        "type": "pie"
                      }
                    ],
                    "scatter": [
                      {
                        "fillpattern": {
                          "fillmode": "overlay",
                          "size": 10,
                          "solidity": 0.2
                        },
                        "type": "scatter"
                      }
                    ],
                    "scatter3d": [
                      {
                        "line": {
                          "colorbar": {
                            "outlinewidth": 0,
                            "ticks": ""
                          }
                        },
                        "marker": {
                          "colorbar": {
                            "outlinewidth": 0,
                            "ticks": ""
                          }
                        },
                        "type": "scatter3d"
                      }
                    ],
                    "scattercarpet": [
                      {
                        "marker": {
                          "colorbar": {
                            "outlinewidth": 0,
                            "ticks": ""
                          }
                        },
                        "type": "scattercarpet"
                      }
                    ],
                    "scattergeo": [
                      {
                        "marker": {
                          "colorbar": {
                            "outlinewidth": 0,
                            "ticks": ""
                          }
                        },
                        "type": "scattergeo"
                      }
                    ],
                    "scattergl": [
                      {
                        "marker": {
                          "colorbar": {
                            "outlinewidth": 0,
                            "ticks": ""
                          }
                        },
                        "type": "scattergl"
                      }
                    ],
                    "scattermapbox": [
                      {
                        "marker": {
                          "colorbar": {
                            "outlinewidth": 0,
                            "ticks": ""
                          }
                        },
                        "type": "scattermapbox"
                      }
                    ],
                    "scatterpolar": [
                      {
                        "marker": {
                          "colorbar": {
                            "outlinewidth": 0,
                            "ticks": ""
                          }
                        },
                        "type": "scatterpolar"
                      }
                    ],
                    "scatterpolargl": [
                      {
                        "marker": {
                          "colorbar": {
                            "outlinewidth": 0,
                            "ticks": ""
                          }
                        },
                        "type": "scatterpolargl"
                      }
                    ],
                    "scatterternary": [
                      {
                        "marker": {
                          "colorbar": {
                            "outlinewidth": 0,
                            "ticks": ""
                          }
                        },
                        "type": "scatterternary"
                      }
                    ],
                    "surface": [
                      {
                        "colorbar": {
                          "outlinewidth": 0,
                          "ticks": ""
                        },
                        "colorscale": [
                          [
                            0,
                            "#0d0887"
                          ],
                          [
                            0.1111111111111111,
                            "#46039f"
                          ],
                          [
                            0.2222222222222222,
                            "#7201a8"
                          ],
                          [
                            0.3333333333333333,
                            "#9c179e"
                          ],
                          [
                            0.4444444444444444,
                            "#bd3786"
                          ],
                          [
                            0.5555555555555556,
                            "#d8576b"
                          ],
                          [
                            0.6666666666666666,
                            "#ed7953"
                          ],
                          [
                            0.7777777777777778,
                            "#fb9f3a"
                          ],
                          [
                            0.8888888888888888,
                            "#fdca26"
                          ],
                          [
                            1,
                            "#f0f921"
                          ]
                        ],
                        "type": "surface"
                      }
                    ],
                    "table": [
                      {
                        "cells": {
                          "fill": {
                            "color": "#EBF0F8"
                          },
                          "line": {
                            "color": "white"
                          }
                        },
                        "header": {
                          "fill": {
                            "color": "#C8D4E3"
                          },
                          "line": {
                            "color": "white"
                          }
                        },
                        "type": "table"
                      }
                    ]
                  },
                  "layout": {
                    "annotationdefaults": {
                      "arrowcolor": "#2a3f5f",
                      "arrowhead": 0,
                      "arrowwidth": 1
                    },
                    "autotypenumbers": "strict",
                    "coloraxis": {
                      "colorbar": {
                        "outlinewidth": 0,
                        "ticks": ""
                      }
                    },
                    "colorscale": {
                      "diverging": [
                        [
                          0,
                          "#8e0152"
                        ],
                        [
                          0.1,
                          "#c51b7d"
                        ],
                        [
                          0.2,
                          "#de77ae"
                        ],
                        [
                          0.3,
                          "#f1b6da"
                        ],
                        [
                          0.4,
                          "#fde0ef"
                        ],
                        [
                          0.5,
                          "#f7f7f7"
                        ],
                        [
                          0.6,
                          "#e6f5d0"
                        ],
                        [
                          0.7,
                          "#b8e186"
                        ],
                        [
                          0.8,
                          "#7fbc41"
                        ],
                        [
                          0.9,
                          "#4d9221"
                        ],
                        [
                          1,
                          "#276419"
                        ]
                      ],
                      "sequential": [
                        [
                          0,
                          "#0d0887"
                        ],
                        [
                          0.1111111111111111,
                          "#46039f"
                        ],
                        [
                          0.2222222222222222,
                          "#7201a8"
                        ],
                        [
                          0.3333333333333333,
                          "#9c179e"
                        ],
                        [
                          0.4444444444444444,
                          "#bd3786"
                        ],
                        [
                          0.5555555555555556,
                          "#d8576b"
                        ],
                        [
                          0.6666666666666666,
                          "#ed7953"
                        ],
                        [
                          0.7777777777777778,
                          "#fb9f3a"
                        ],
                        [
                          0.8888888888888888,
                          "#fdca26"
                        ],
                        [
                          1,
                          "#f0f921"
                        ]
                      ],
                      "sequentialminus": [
                        [
                          0,
                          "#0d0887"
                        ],
                        [
                          0.1111111111111111,
                          "#46039f"
                        ],
                        [
                          0.2222222222222222,
                          "#7201a8"
                        ],
                        [
                          0.3333333333333333,
                          "#9c179e"
                        ],
                        [
                          0.4444444444444444,
                          "#bd3786"
                        ],
                        [
                          0.5555555555555556,
                          "#d8576b"
                        ],
                        [
                          0.6666666666666666,
                          "#ed7953"
                        ],
                        [
                          0.7777777777777778,
                          "#fb9f3a"
                        ],
                        [
                          0.8888888888888888,
                          "#fdca26"
                        ],
                        [
                          1,
                          "#f0f921"
                        ]
                      ]
                    },
                    "colorway": [
                      "#636efa",
                      "#EF553B",
                      "#00cc96",
                      "#ab63fa",
                      "#FFA15A",
                      "#19d3f3",
                      "#FF6692",
                      "#B6E880",
                      "#FF97FF",
                      "#FECB52"
                    ],
                    "font": {
                      "color": "#2a3f5f"
                    },
                    "geo": {
                      "bgcolor": "white",
                      "lakecolor": "white",
                      "landcolor": "#E5ECF6",
                      "showlakes": true,
                      "showland": true,
                      "subunitcolor": "white"
                    },
                    "hoverlabel": {
                      "align": "left"
                    },
                    "hovermode": "closest",
                    "mapbox": {
                      "style": "light"
                    },
                    "paper_bgcolor": "white",
                    "plot_bgcolor": "#E5ECF6",
                    "polar": {
                      "angularaxis": {
                        "gridcolor": "white",
                        "linecolor": "white",
                        "ticks": ""
                      },
                      "bgcolor": "#E5ECF6",
                      "radialaxis": {
                        "gridcolor": "white",
                        "linecolor": "white",
                        "ticks": ""
                      }
                    },
                    "scene": {
                      "xaxis": {
                        "backgroundcolor": "#E5ECF6",
                        "gridcolor": "white",
                        "gridwidth": 2,
                        "linecolor": "white",
                        "showbackground": true,
                        "ticks": "",
                        "zerolinecolor": "white"
                      },
                      "yaxis": {
                        "backgroundcolor": "#E5ECF6",
                        "gridcolor": "white",
                        "gridwidth": 2,
                        "linecolor": "white",
                        "showbackground": true,
                        "ticks": "",
                        "zerolinecolor": "white"
                      },
                      "zaxis": {
                        "backgroundcolor": "#E5ECF6",
                        "gridcolor": "white",
                        "gridwidth": 2,
                        "linecolor": "white",
                        "showbackground": true,
                        "ticks": "",
                        "zerolinecolor": "white"
                      }
                    },
                    "shapedefaults": {
                      "line": {
                        "color": "#2a3f5f"
                      }
                    },
                    "ternary": {
                      "aaxis": {
                        "gridcolor": "white",
                        "linecolor": "white",
                        "ticks": ""
                      },
                      "baxis": {
                        "gridcolor": "white",
                        "linecolor": "white",
                        "ticks": ""
                      },
                      "bgcolor": "#E5ECF6",
                      "caxis": {
                        "gridcolor": "white",
                        "linecolor": "white",
                        "ticks": ""
                      }
                    },
                    "title": {
                      "x": 0.05
                    },
                    "xaxis": {
                      "automargin": true,
                      "gridcolor": "white",
                      "linecolor": "white",
                      "ticks": "",
                      "title": {
                        "standoff": 15
                      },
                      "zerolinecolor": "white",
                      "zerolinewidth": 2
                    },
                    "yaxis": {
                      "automargin": true,
                      "gridcolor": "white",
                      "linecolor": "white",
                      "ticks": "",
                      "title": {
                        "standoff": 15
                      },
                      "zerolinecolor": "white",
                      "zerolinewidth": 2
                    }
                  }
                },
                "title": {
                  "font": {
                    "size": 35
                  },
                  "text": "Category Counts",
                  "x": 0.5
                },
                "xaxis": {
                  "anchor": "y",
                  "domain": [
                    0,
                    1
                  ],
                  "showgrid": false,
                  "title": {
                    "text": "Category"
                  }
                },
                "yaxis": {
                  "anchor": "x",
                  "domain": [
                    0,
                    1
                  ],
                  "showgrid": false,
                  "title": {
                    "text": "Value"
                  }
                }
              }
            },
            "text/html": [
              "<div>                            <div id=\"6fa28e3f-1604-46a5-991e-3c261a956277\" class=\"plotly-graph-div\" style=\"height:525px; width:100%;\"></div>            <script type=\"text/javascript\">                require([\"plotly\"], function(Plotly) {                    window.PLOTLYENV=window.PLOTLYENV || {};                                    if (document.getElementById(\"6fa28e3f-1604-46a5-991e-3c261a956277\")) {                    Plotly.newPlot(                        \"6fa28e3f-1604-46a5-991e-3c261a956277\",                        [{\"alignmentgroup\":\"True\",\"hovertemplate\":\"Category:'%{x}' Counted: %{y}\",\"legendgroup\":\"depression\",\"marker\":{\"color\":\"#636efa\",\"pattern\":{\"shape\":\"\"}},\"name\":\"depression\",\"offsetgroup\":\"depression\",\"orientation\":\"v\",\"showlegend\":true,\"text\":[257982.0],\"textposition\":\"auto\",\"x\":[\"depression\"],\"xaxis\":\"x\",\"y\":[257982],\"yaxis\":\"y\",\"type\":\"bar\"},{\"alignmentgroup\":\"True\",\"hovertemplate\":\"Category:'%{x}' Counted: %{y}\",\"legendgroup\":\"Anxiety\",\"marker\":{\"color\":\"#EF553B\",\"pattern\":{\"shape\":\"\"}},\"name\":\"Anxiety\",\"offsetgroup\":\"Anxiety\",\"orientation\":\"v\",\"showlegend\":true,\"text\":[86132.0],\"textposition\":\"auto\",\"x\":[\"Anxiety\"],\"xaxis\":\"x\",\"y\":[86132],\"yaxis\":\"y\",\"type\":\"bar\"},{\"alignmentgroup\":\"True\",\"hovertemplate\":\"Category:'%{x}' Counted: %{y}\",\"legendgroup\":\"bipolar\",\"marker\":{\"color\":\"#00cc96\",\"pattern\":{\"shape\":\"\"}},\"name\":\"bipolar\",\"offsetgroup\":\"bipolar\",\"orientation\":\"v\",\"showlegend\":true,\"text\":[41034.0],\"textposition\":\"auto\",\"x\":[\"bipolar\"],\"xaxis\":\"x\",\"y\":[41034],\"yaxis\":\"y\",\"type\":\"bar\"},{\"alignmentgroup\":\"True\",\"hovertemplate\":\"Category:'%{x}' Counted: %{y}\",\"legendgroup\":\"mentalhealth\",\"marker\":{\"color\":\"#ab63fa\",\"pattern\":{\"shape\":\"\"}},\"name\":\"mentalhealth\",\"offsetgroup\":\"mentalhealth\",\"orientation\":\"v\",\"showlegend\":true,\"text\":[38997.0],\"textposition\":\"auto\",\"x\":[\"mentalhealth\"],\"xaxis\":\"x\",\"y\":[38997],\"yaxis\":\"y\",\"type\":\"bar\"},{\"alignmentgroup\":\"True\",\"hovertemplate\":\"Category:'%{x}' Counted: %{y}\",\"legendgroup\":\"BPD\",\"marker\":{\"color\":\"#FFA15A\",\"pattern\":{\"shape\":\"\"}},\"name\":\"BPD\",\"offsetgroup\":\"BPD\",\"orientation\":\"v\",\"showlegend\":true,\"text\":[38137.0],\"textposition\":\"auto\",\"x\":[\"BPD\"],\"xaxis\":\"x\",\"y\":[38137],\"yaxis\":\"y\",\"type\":\"bar\"},{\"alignmentgroup\":\"True\",\"hovertemplate\":\"Category:'%{x}' Counted: %{y}\",\"legendgroup\":\"schizophrenia\",\"marker\":{\"color\":\"#19d3f3\",\"pattern\":{\"shape\":\"\"}},\"name\":\"schizophrenia\",\"offsetgroup\":\"schizophrenia\",\"orientation\":\"v\",\"showlegend\":true,\"text\":[17436.0],\"textposition\":\"auto\",\"x\":[\"schizophrenia\"],\"xaxis\":\"x\",\"y\":[17436],\"yaxis\":\"y\",\"type\":\"bar\"},{\"alignmentgroup\":\"True\",\"hovertemplate\":\"Category:'%{x}' Counted: %{y}\",\"legendgroup\":\"autism\",\"marker\":{\"color\":\"#FF6692\",\"pattern\":{\"shape\":\"\"}},\"name\":\"autism\",\"offsetgroup\":\"autism\",\"orientation\":\"v\",\"showlegend\":true,\"text\":[7132.0],\"textposition\":\"auto\",\"x\":[\"autism\"],\"xaxis\":\"x\",\"y\":[7132],\"yaxis\":\"y\",\"type\":\"bar\"}],                        {\"barmode\":\"relative\",\"legend\":{\"title\":{\"text\":\"color\"},\"tracegroupgap\":0},\"margin\":{\"t\":60},\"plot_bgcolor\":\"white\",\"showlegend\":false,\"template\":{\"data\":{\"barpolar\":[{\"marker\":{\"line\":{\"color\":\"#E5ECF6\",\"width\":0.5},\"pattern\":{\"fillmode\":\"overlay\",\"size\":10,\"solidity\":0.2}},\"type\":\"barpolar\"}],\"bar\":[{\"error_x\":{\"color\":\"#2a3f5f\"},\"error_y\":{\"color\":\"#2a3f5f\"},\"marker\":{\"line\":{\"color\":\"#E5ECF6\",\"width\":0.5},\"pattern\":{\"fillmode\":\"overlay\",\"size\":10,\"solidity\":0.2}},\"type\":\"bar\"}],\"carpet\":[{\"aaxis\":{\"endlinecolor\":\"#2a3f5f\",\"gridcolor\":\"white\",\"linecolor\":\"white\",\"minorgridcolor\":\"white\",\"startlinecolor\":\"#2a3f5f\"},\"baxis\":{\"endlinecolor\":\"#2a3f5f\",\"gridcolor\":\"white\",\"linecolor\":\"white\",\"minorgridcolor\":\"white\",\"startlinecolor\":\"#2a3f5f\"},\"type\":\"carpet\"}],\"choropleth\":[{\"colorbar\":{\"outlinewidth\":0,\"ticks\":\"\"},\"type\":\"choropleth\"}],\"contourcarpet\":[{\"colorbar\":{\"outlinewidth\":0,\"ticks\":\"\"},\"type\":\"contourcarpet\"}],\"contour\":[{\"colorbar\":{\"outlinewidth\":0,\"ticks\":\"\"},\"colorscale\":[[0.0,\"#0d0887\"],[0.1111111111111111,\"#46039f\"],[0.2222222222222222,\"#7201a8\"],[0.3333333333333333,\"#9c179e\"],[0.4444444444444444,\"#bd3786\"],[0.5555555555555556,\"#d8576b\"],[0.6666666666666666,\"#ed7953\"],[0.7777777777777778,\"#fb9f3a\"],[0.8888888888888888,\"#fdca26\"],[1.0,\"#f0f921\"]],\"type\":\"contour\"}],\"heatmapgl\":[{\"colorbar\":{\"outlinewidth\":0,\"ticks\":\"\"},\"colorscale\":[[0.0,\"#0d0887\"],[0.1111111111111111,\"#46039f\"],[0.2222222222222222,\"#7201a8\"],[0.3333333333333333,\"#9c179e\"],[0.4444444444444444,\"#bd3786\"],[0.5555555555555556,\"#d8576b\"],[0.6666666666666666,\"#ed7953\"],[0.7777777777777778,\"#fb9f3a\"],[0.8888888888888888,\"#fdca26\"],[1.0,\"#f0f921\"]],\"type\":\"heatmapgl\"}],\"heatmap\":[{\"colorbar\":{\"outlinewidth\":0,\"ticks\":\"\"},\"colorscale\":[[0.0,\"#0d0887\"],[0.1111111111111111,\"#46039f\"],[0.2222222222222222,\"#7201a8\"],[0.3333333333333333,\"#9c179e\"],[0.4444444444444444,\"#bd3786\"],[0.5555555555555556,\"#d8576b\"],[0.6666666666666666,\"#ed7953\"],[0.7777777777777778,\"#fb9f3a\"],[0.8888888888888888,\"#fdca26\"],[1.0,\"#f0f921\"]],\"type\":\"heatmap\"}],\"histogram2dcontour\":[{\"colorbar\":{\"outlinewidth\":0,\"ticks\":\"\"},\"colorscale\":[[0.0,\"#0d0887\"],[0.1111111111111111,\"#46039f\"],[0.2222222222222222,\"#7201a8\"],[0.3333333333333333,\"#9c179e\"],[0.4444444444444444,\"#bd3786\"],[0.5555555555555556,\"#d8576b\"],[0.6666666666666666,\"#ed7953\"],[0.7777777777777778,\"#fb9f3a\"],[0.8888888888888888,\"#fdca26\"],[1.0,\"#f0f921\"]],\"type\":\"histogram2dcontour\"}],\"histogram2d\":[{\"colorbar\":{\"outlinewidth\":0,\"ticks\":\"\"},\"colorscale\":[[0.0,\"#0d0887\"],[0.1111111111111111,\"#46039f\"],[0.2222222222222222,\"#7201a8\"],[0.3333333333333333,\"#9c179e\"],[0.4444444444444444,\"#bd3786\"],[0.5555555555555556,\"#d8576b\"],[0.6666666666666666,\"#ed7953\"],[0.7777777777777778,\"#fb9f3a\"],[0.8888888888888888,\"#fdca26\"],[1.0,\"#f0f921\"]],\"type\":\"histogram2d\"}],\"histogram\":[{\"marker\":{\"pattern\":{\"fillmode\":\"overlay\",\"size\":10,\"solidity\":0.2}},\"type\":\"histogram\"}],\"mesh3d\":[{\"colorbar\":{\"outlinewidth\":0,\"ticks\":\"\"},\"type\":\"mesh3d\"}],\"parcoords\":[{\"line\":{\"colorbar\":{\"outlinewidth\":0,\"ticks\":\"\"}},\"type\":\"parcoords\"}],\"pie\":[{\"automargin\":true,\"type\":\"pie\"}],\"scatter3d\":[{\"line\":{\"colorbar\":{\"outlinewidth\":0,\"ticks\":\"\"}},\"marker\":{\"colorbar\":{\"outlinewidth\":0,\"ticks\":\"\"}},\"type\":\"scatter3d\"}],\"scattercarpet\":[{\"marker\":{\"colorbar\":{\"outlinewidth\":0,\"ticks\":\"\"}},\"type\":\"scattercarpet\"}],\"scattergeo\":[{\"marker\":{\"colorbar\":{\"outlinewidth\":0,\"ticks\":\"\"}},\"type\":\"scattergeo\"}],\"scattergl\":[{\"marker\":{\"colorbar\":{\"outlinewidth\":0,\"ticks\":\"\"}},\"type\":\"scattergl\"}],\"scattermapbox\":[{\"marker\":{\"colorbar\":{\"outlinewidth\":0,\"ticks\":\"\"}},\"type\":\"scattermapbox\"}],\"scatterpolargl\":[{\"marker\":{\"colorbar\":{\"outlinewidth\":0,\"ticks\":\"\"}},\"type\":\"scatterpolargl\"}],\"scatterpolar\":[{\"marker\":{\"colorbar\":{\"outlinewidth\":0,\"ticks\":\"\"}},\"type\":\"scatterpolar\"}],\"scatter\":[{\"fillpattern\":{\"fillmode\":\"overlay\",\"size\":10,\"solidity\":0.2},\"type\":\"scatter\"}],\"scatterternary\":[{\"marker\":{\"colorbar\":{\"outlinewidth\":0,\"ticks\":\"\"}},\"type\":\"scatterternary\"}],\"surface\":[{\"colorbar\":{\"outlinewidth\":0,\"ticks\":\"\"},\"colorscale\":[[0.0,\"#0d0887\"],[0.1111111111111111,\"#46039f\"],[0.2222222222222222,\"#7201a8\"],[0.3333333333333333,\"#9c179e\"],[0.4444444444444444,\"#bd3786\"],[0.5555555555555556,\"#d8576b\"],[0.6666666666666666,\"#ed7953\"],[0.7777777777777778,\"#fb9f3a\"],[0.8888888888888888,\"#fdca26\"],[1.0,\"#f0f921\"]],\"type\":\"surface\"}],\"table\":[{\"cells\":{\"fill\":{\"color\":\"#EBF0F8\"},\"line\":{\"color\":\"white\"}},\"header\":{\"fill\":{\"color\":\"#C8D4E3\"},\"line\":{\"color\":\"white\"}},\"type\":\"table\"}]},\"layout\":{\"annotationdefaults\":{\"arrowcolor\":\"#2a3f5f\",\"arrowhead\":0,\"arrowwidth\":1},\"autotypenumbers\":\"strict\",\"coloraxis\":{\"colorbar\":{\"outlinewidth\":0,\"ticks\":\"\"}},\"colorscale\":{\"diverging\":[[0,\"#8e0152\"],[0.1,\"#c51b7d\"],[0.2,\"#de77ae\"],[0.3,\"#f1b6da\"],[0.4,\"#fde0ef\"],[0.5,\"#f7f7f7\"],[0.6,\"#e6f5d0\"],[0.7,\"#b8e186\"],[0.8,\"#7fbc41\"],[0.9,\"#4d9221\"],[1,\"#276419\"]],\"sequential\":[[0.0,\"#0d0887\"],[0.1111111111111111,\"#46039f\"],[0.2222222222222222,\"#7201a8\"],[0.3333333333333333,\"#9c179e\"],[0.4444444444444444,\"#bd3786\"],[0.5555555555555556,\"#d8576b\"],[0.6666666666666666,\"#ed7953\"],[0.7777777777777778,\"#fb9f3a\"],[0.8888888888888888,\"#fdca26\"],[1.0,\"#f0f921\"]],\"sequentialminus\":[[0.0,\"#0d0887\"],[0.1111111111111111,\"#46039f\"],[0.2222222222222222,\"#7201a8\"],[0.3333333333333333,\"#9c179e\"],[0.4444444444444444,\"#bd3786\"],[0.5555555555555556,\"#d8576b\"],[0.6666666666666666,\"#ed7953\"],[0.7777777777777778,\"#fb9f3a\"],[0.8888888888888888,\"#fdca26\"],[1.0,\"#f0f921\"]]},\"colorway\":[\"#636efa\",\"#EF553B\",\"#00cc96\",\"#ab63fa\",\"#FFA15A\",\"#19d3f3\",\"#FF6692\",\"#B6E880\",\"#FF97FF\",\"#FECB52\"],\"font\":{\"color\":\"#2a3f5f\"},\"geo\":{\"bgcolor\":\"white\",\"lakecolor\":\"white\",\"landcolor\":\"#E5ECF6\",\"showlakes\":true,\"showland\":true,\"subunitcolor\":\"white\"},\"hoverlabel\":{\"align\":\"left\"},\"hovermode\":\"closest\",\"mapbox\":{\"style\":\"light\"},\"paper_bgcolor\":\"white\",\"plot_bgcolor\":\"#E5ECF6\",\"polar\":{\"angularaxis\":{\"gridcolor\":\"white\",\"linecolor\":\"white\",\"ticks\":\"\"},\"bgcolor\":\"#E5ECF6\",\"radialaxis\":{\"gridcolor\":\"white\",\"linecolor\":\"white\",\"ticks\":\"\"}},\"scene\":{\"xaxis\":{\"backgroundcolor\":\"#E5ECF6\",\"gridcolor\":\"white\",\"gridwidth\":2,\"linecolor\":\"white\",\"showbackground\":true,\"ticks\":\"\",\"zerolinecolor\":\"white\"},\"yaxis\":{\"backgroundcolor\":\"#E5ECF6\",\"gridcolor\":\"white\",\"gridwidth\":2,\"linecolor\":\"white\",\"showbackground\":true,\"ticks\":\"\",\"zerolinecolor\":\"white\"},\"zaxis\":{\"backgroundcolor\":\"#E5ECF6\",\"gridcolor\":\"white\",\"gridwidth\":2,\"linecolor\":\"white\",\"showbackground\":true,\"ticks\":\"\",\"zerolinecolor\":\"white\"}},\"shapedefaults\":{\"line\":{\"color\":\"#2a3f5f\"}},\"ternary\":{\"aaxis\":{\"gridcolor\":\"white\",\"linecolor\":\"white\",\"ticks\":\"\"},\"baxis\":{\"gridcolor\":\"white\",\"linecolor\":\"white\",\"ticks\":\"\"},\"bgcolor\":\"#E5ECF6\",\"caxis\":{\"gridcolor\":\"white\",\"linecolor\":\"white\",\"ticks\":\"\"}},\"title\":{\"x\":0.05},\"xaxis\":{\"automargin\":true,\"gridcolor\":\"white\",\"linecolor\":\"white\",\"ticks\":\"\",\"title\":{\"standoff\":15},\"zerolinecolor\":\"white\",\"zerolinewidth\":2},\"yaxis\":{\"automargin\":true,\"gridcolor\":\"white\",\"linecolor\":\"white\",\"ticks\":\"\",\"title\":{\"standoff\":15},\"zerolinecolor\":\"white\",\"zerolinewidth\":2}}},\"title\":{\"font\":{\"size\":35},\"text\":\"Category Counts\",\"x\":0.5},\"xaxis\":{\"anchor\":\"y\",\"domain\":[0.0,1.0],\"showgrid\":false,\"title\":{\"text\":\"Category\"}},\"yaxis\":{\"anchor\":\"x\",\"domain\":[0.0,1.0],\"showgrid\":false,\"title\":{\"text\":\"Value\"}}},                        {\"responsive\": true}                    ).then(function(){\n",
              "                            \n",
              "var gd = document.getElementById('6fa28e3f-1604-46a5-991e-3c261a956277');\n",
              "var x = new MutationObserver(function (mutations, observer) {{\n",
              "        var display = window.getComputedStyle(gd).display;\n",
              "        if (!display || display === 'none') {{\n",
              "            console.log([gd, 'removed!']);\n",
              "            Plotly.purge(gd);\n",
              "            observer.disconnect();\n",
              "        }}\n",
              "}});\n",
              "\n",
              "// Listen for the removal of the full notebook cells\n",
              "var notebookContainer = gd.closest('#notebook-container');\n",
              "if (notebookContainer) {{\n",
              "    x.observe(notebookContainer, {childList: true});\n",
              "}}\n",
              "\n",
              "// Listen for the clearing of the current output cell\n",
              "var outputEl = gd.closest('.output');\n",
              "if (outputEl) {{\n",
              "    x.observe(outputEl, {childList: true});\n",
              "}}\n",
              "\n",
              "                        })                };                });            </script>        </div>"
            ]
          },
          "metadata": {},
          "output_type": "display_data"
        }
      ],
      "source": [
        "import plotly.graph_objects as go\n",
        "from plotly.offline import iplot, init_notebook_mode\n",
        "import plotly.express as px\n",
        "import plotly.io as pio\n",
        "\n",
        "init_notebook_mode(True)\n",
        "\n",
        "fig = px.bar(x=data.Subreddit.value_counts().index,y=data.Subreddit.value_counts(),color=data.Subreddit.value_counts().index,text=data.Subreddit.value_counts())\n",
        "fig.update_traces(hovertemplate=\"Category:'%{x}' Counted: %{y}\")\n",
        "fig.update_layout(title={\"text\":\"Category Counts\",\"x\":0.5,\"font\":{\"size\":35}},xaxis={\"title\":\"Category\",\"showgrid\":False},yaxis={\"title\":\"Value\",\"showgrid\":False},plot_bgcolor=\"white\", showlegend=False)\n",
        "iplot(fig)"
      ]
    },
    {
      "cell_type": "code",
      "execution_count": null,
      "metadata": {
        "colab": {
          "base_uri": "https://localhost:8080/",
          "height": 542
        },
        "id": "oqt_txvnoDRg",
        "outputId": "c29bbfe4-07b8-4c53-e973-29e2a1dff614"
      },
      "outputs": [
        {
          "data": {
            "application/vnd.plotly.v1+json": {
              "config": {
                "linkText": "Export to plot.ly",
                "plotlyServerURL": "https://plot.ly",
                "showLink": false
              },
              "data": [
                {
                  "domain": {
                    "x": [
                      0,
                      1
                    ],
                    "y": [
                      0,
                      1
                    ]
                  },
                  "hole": 0.4,
                  "hoverinfo": "label+percent",
                  "hovertemplate": "label=%{label}<br>value=%{value}<extra></extra>",
                  "labels": [
                    "depression",
                    "Anxiety",
                    "bipolar",
                    "mentalhealth",
                    "BPD",
                    "schizophrenia",
                    "autism"
                  ],
                  "legendgroup": "",
                  "marker": {
                    "line": {
                      "width": 1
                    }
                  },
                  "name": "",
                  "showlegend": true,
                  "textinfo": "percent+label",
                  "textposition": "auto",
                  "type": "pie",
                  "values": [
                    257982,
                    86132,
                    41034,
                    38997,
                    38137,
                    17436,
                    7132
                  ]
                }
              ],
              "layout": {
                "annotations": [
                  {
                    "font": {
                      "size": 17
                    },
                    "showarrow": false,
                    "text": "Percentages"
                  }
                ],
                "legend": {
                  "tracegroupgap": 0
                },
                "margin": {
                  "t": 60
                },
                "template": {
                  "data": {
                    "bar": [
                      {
                        "error_x": {
                          "color": "#2a3f5f"
                        },
                        "error_y": {
                          "color": "#2a3f5f"
                        },
                        "marker": {
                          "line": {
                            "color": "#E5ECF6",
                            "width": 0.5
                          },
                          "pattern": {
                            "fillmode": "overlay",
                            "size": 10,
                            "solidity": 0.2
                          }
                        },
                        "type": "bar"
                      }
                    ],
                    "barpolar": [
                      {
                        "marker": {
                          "line": {
                            "color": "#E5ECF6",
                            "width": 0.5
                          },
                          "pattern": {
                            "fillmode": "overlay",
                            "size": 10,
                            "solidity": 0.2
                          }
                        },
                        "type": "barpolar"
                      }
                    ],
                    "carpet": [
                      {
                        "aaxis": {
                          "endlinecolor": "#2a3f5f",
                          "gridcolor": "white",
                          "linecolor": "white",
                          "minorgridcolor": "white",
                          "startlinecolor": "#2a3f5f"
                        },
                        "baxis": {
                          "endlinecolor": "#2a3f5f",
                          "gridcolor": "white",
                          "linecolor": "white",
                          "minorgridcolor": "white",
                          "startlinecolor": "#2a3f5f"
                        },
                        "type": "carpet"
                      }
                    ],
                    "choropleth": [
                      {
                        "colorbar": {
                          "outlinewidth": 0,
                          "ticks": ""
                        },
                        "type": "choropleth"
                      }
                    ],
                    "contour": [
                      {
                        "colorbar": {
                          "outlinewidth": 0,
                          "ticks": ""
                        },
                        "colorscale": [
                          [
                            0,
                            "#0d0887"
                          ],
                          [
                            0.1111111111111111,
                            "#46039f"
                          ],
                          [
                            0.2222222222222222,
                            "#7201a8"
                          ],
                          [
                            0.3333333333333333,
                            "#9c179e"
                          ],
                          [
                            0.4444444444444444,
                            "#bd3786"
                          ],
                          [
                            0.5555555555555556,
                            "#d8576b"
                          ],
                          [
                            0.6666666666666666,
                            "#ed7953"
                          ],
                          [
                            0.7777777777777778,
                            "#fb9f3a"
                          ],
                          [
                            0.8888888888888888,
                            "#fdca26"
                          ],
                          [
                            1,
                            "#f0f921"
                          ]
                        ],
                        "type": "contour"
                      }
                    ],
                    "contourcarpet": [
                      {
                        "colorbar": {
                          "outlinewidth": 0,
                          "ticks": ""
                        },
                        "type": "contourcarpet"
                      }
                    ],
                    "heatmap": [
                      {
                        "colorbar": {
                          "outlinewidth": 0,
                          "ticks": ""
                        },
                        "colorscale": [
                          [
                            0,
                            "#0d0887"
                          ],
                          [
                            0.1111111111111111,
                            "#46039f"
                          ],
                          [
                            0.2222222222222222,
                            "#7201a8"
                          ],
                          [
                            0.3333333333333333,
                            "#9c179e"
                          ],
                          [
                            0.4444444444444444,
                            "#bd3786"
                          ],
                          [
                            0.5555555555555556,
                            "#d8576b"
                          ],
                          [
                            0.6666666666666666,
                            "#ed7953"
                          ],
                          [
                            0.7777777777777778,
                            "#fb9f3a"
                          ],
                          [
                            0.8888888888888888,
                            "#fdca26"
                          ],
                          [
                            1,
                            "#f0f921"
                          ]
                        ],
                        "type": "heatmap"
                      }
                    ],
                    "heatmapgl": [
                      {
                        "colorbar": {
                          "outlinewidth": 0,
                          "ticks": ""
                        },
                        "colorscale": [
                          [
                            0,
                            "#0d0887"
                          ],
                          [
                            0.1111111111111111,
                            "#46039f"
                          ],
                          [
                            0.2222222222222222,
                            "#7201a8"
                          ],
                          [
                            0.3333333333333333,
                            "#9c179e"
                          ],
                          [
                            0.4444444444444444,
                            "#bd3786"
                          ],
                          [
                            0.5555555555555556,
                            "#d8576b"
                          ],
                          [
                            0.6666666666666666,
                            "#ed7953"
                          ],
                          [
                            0.7777777777777778,
                            "#fb9f3a"
                          ],
                          [
                            0.8888888888888888,
                            "#fdca26"
                          ],
                          [
                            1,
                            "#f0f921"
                          ]
                        ],
                        "type": "heatmapgl"
                      }
                    ],
                    "histogram": [
                      {
                        "marker": {
                          "pattern": {
                            "fillmode": "overlay",
                            "size": 10,
                            "solidity": 0.2
                          }
                        },
                        "type": "histogram"
                      }
                    ],
                    "histogram2d": [
                      {
                        "colorbar": {
                          "outlinewidth": 0,
                          "ticks": ""
                        },
                        "colorscale": [
                          [
                            0,
                            "#0d0887"
                          ],
                          [
                            0.1111111111111111,
                            "#46039f"
                          ],
                          [
                            0.2222222222222222,
                            "#7201a8"
                          ],
                          [
                            0.3333333333333333,
                            "#9c179e"
                          ],
                          [
                            0.4444444444444444,
                            "#bd3786"
                          ],
                          [
                            0.5555555555555556,
                            "#d8576b"
                          ],
                          [
                            0.6666666666666666,
                            "#ed7953"
                          ],
                          [
                            0.7777777777777778,
                            "#fb9f3a"
                          ],
                          [
                            0.8888888888888888,
                            "#fdca26"
                          ],
                          [
                            1,
                            "#f0f921"
                          ]
                        ],
                        "type": "histogram2d"
                      }
                    ],
                    "histogram2dcontour": [
                      {
                        "colorbar": {
                          "outlinewidth": 0,
                          "ticks": ""
                        },
                        "colorscale": [
                          [
                            0,
                            "#0d0887"
                          ],
                          [
                            0.1111111111111111,
                            "#46039f"
                          ],
                          [
                            0.2222222222222222,
                            "#7201a8"
                          ],
                          [
                            0.3333333333333333,
                            "#9c179e"
                          ],
                          [
                            0.4444444444444444,
                            "#bd3786"
                          ],
                          [
                            0.5555555555555556,
                            "#d8576b"
                          ],
                          [
                            0.6666666666666666,
                            "#ed7953"
                          ],
                          [
                            0.7777777777777778,
                            "#fb9f3a"
                          ],
                          [
                            0.8888888888888888,
                            "#fdca26"
                          ],
                          [
                            1,
                            "#f0f921"
                          ]
                        ],
                        "type": "histogram2dcontour"
                      }
                    ],
                    "mesh3d": [
                      {
                        "colorbar": {
                          "outlinewidth": 0,
                          "ticks": ""
                        },
                        "type": "mesh3d"
                      }
                    ],
                    "parcoords": [
                      {
                        "line": {
                          "colorbar": {
                            "outlinewidth": 0,
                            "ticks": ""
                          }
                        },
                        "type": "parcoords"
                      }
                    ],
                    "pie": [
                      {
                        "automargin": true,
                        "type": "pie"
                      }
                    ],
                    "scatter": [
                      {
                        "fillpattern": {
                          "fillmode": "overlay",
                          "size": 10,
                          "solidity": 0.2
                        },
                        "type": "scatter"
                      }
                    ],
                    "scatter3d": [
                      {
                        "line": {
                          "colorbar": {
                            "outlinewidth": 0,
                            "ticks": ""
                          }
                        },
                        "marker": {
                          "colorbar": {
                            "outlinewidth": 0,
                            "ticks": ""
                          }
                        },
                        "type": "scatter3d"
                      }
                    ],
                    "scattercarpet": [
                      {
                        "marker": {
                          "colorbar": {
                            "outlinewidth": 0,
                            "ticks": ""
                          }
                        },
                        "type": "scattercarpet"
                      }
                    ],
                    "scattergeo": [
                      {
                        "marker": {
                          "colorbar": {
                            "outlinewidth": 0,
                            "ticks": ""
                          }
                        },
                        "type": "scattergeo"
                      }
                    ],
                    "scattergl": [
                      {
                        "marker": {
                          "colorbar": {
                            "outlinewidth": 0,
                            "ticks": ""
                          }
                        },
                        "type": "scattergl"
                      }
                    ],
                    "scattermapbox": [
                      {
                        "marker": {
                          "colorbar": {
                            "outlinewidth": 0,
                            "ticks": ""
                          }
                        },
                        "type": "scattermapbox"
                      }
                    ],
                    "scatterpolar": [
                      {
                        "marker": {
                          "colorbar": {
                            "outlinewidth": 0,
                            "ticks": ""
                          }
                        },
                        "type": "scatterpolar"
                      }
                    ],
                    "scatterpolargl": [
                      {
                        "marker": {
                          "colorbar": {
                            "outlinewidth": 0,
                            "ticks": ""
                          }
                        },
                        "type": "scatterpolargl"
                      }
                    ],
                    "scatterternary": [
                      {
                        "marker": {
                          "colorbar": {
                            "outlinewidth": 0,
                            "ticks": ""
                          }
                        },
                        "type": "scatterternary"
                      }
                    ],
                    "surface": [
                      {
                        "colorbar": {
                          "outlinewidth": 0,
                          "ticks": ""
                        },
                        "colorscale": [
                          [
                            0,
                            "#0d0887"
                          ],
                          [
                            0.1111111111111111,
                            "#46039f"
                          ],
                          [
                            0.2222222222222222,
                            "#7201a8"
                          ],
                          [
                            0.3333333333333333,
                            "#9c179e"
                          ],
                          [
                            0.4444444444444444,
                            "#bd3786"
                          ],
                          [
                            0.5555555555555556,
                            "#d8576b"
                          ],
                          [
                            0.6666666666666666,
                            "#ed7953"
                          ],
                          [
                            0.7777777777777778,
                            "#fb9f3a"
                          ],
                          [
                            0.8888888888888888,
                            "#fdca26"
                          ],
                          [
                            1,
                            "#f0f921"
                          ]
                        ],
                        "type": "surface"
                      }
                    ],
                    "table": [
                      {
                        "cells": {
                          "fill": {
                            "color": "#EBF0F8"
                          },
                          "line": {
                            "color": "white"
                          }
                        },
                        "header": {
                          "fill": {
                            "color": "#C8D4E3"
                          },
                          "line": {
                            "color": "white"
                          }
                        },
                        "type": "table"
                      }
                    ]
                  },
                  "layout": {
                    "annotationdefaults": {
                      "arrowcolor": "#2a3f5f",
                      "arrowhead": 0,
                      "arrowwidth": 1
                    },
                    "autotypenumbers": "strict",
                    "coloraxis": {
                      "colorbar": {
                        "outlinewidth": 0,
                        "ticks": ""
                      }
                    },
                    "colorscale": {
                      "diverging": [
                        [
                          0,
                          "#8e0152"
                        ],
                        [
                          0.1,
                          "#c51b7d"
                        ],
                        [
                          0.2,
                          "#de77ae"
                        ],
                        [
                          0.3,
                          "#f1b6da"
                        ],
                        [
                          0.4,
                          "#fde0ef"
                        ],
                        [
                          0.5,
                          "#f7f7f7"
                        ],
                        [
                          0.6,
                          "#e6f5d0"
                        ],
                        [
                          0.7,
                          "#b8e186"
                        ],
                        [
                          0.8,
                          "#7fbc41"
                        ],
                        [
                          0.9,
                          "#4d9221"
                        ],
                        [
                          1,
                          "#276419"
                        ]
                      ],
                      "sequential": [
                        [
                          0,
                          "#0d0887"
                        ],
                        [
                          0.1111111111111111,
                          "#46039f"
                        ],
                        [
                          0.2222222222222222,
                          "#7201a8"
                        ],
                        [
                          0.3333333333333333,
                          "#9c179e"
                        ],
                        [
                          0.4444444444444444,
                          "#bd3786"
                        ],
                        [
                          0.5555555555555556,
                          "#d8576b"
                        ],
                        [
                          0.6666666666666666,
                          "#ed7953"
                        ],
                        [
                          0.7777777777777778,
                          "#fb9f3a"
                        ],
                        [
                          0.8888888888888888,
                          "#fdca26"
                        ],
                        [
                          1,
                          "#f0f921"
                        ]
                      ],
                      "sequentialminus": [
                        [
                          0,
                          "#0d0887"
                        ],
                        [
                          0.1111111111111111,
                          "#46039f"
                        ],
                        [
                          0.2222222222222222,
                          "#7201a8"
                        ],
                        [
                          0.3333333333333333,
                          "#9c179e"
                        ],
                        [
                          0.4444444444444444,
                          "#bd3786"
                        ],
                        [
                          0.5555555555555556,
                          "#d8576b"
                        ],
                        [
                          0.6666666666666666,
                          "#ed7953"
                        ],
                        [
                          0.7777777777777778,
                          "#fb9f3a"
                        ],
                        [
                          0.8888888888888888,
                          "#fdca26"
                        ],
                        [
                          1,
                          "#f0f921"
                        ]
                      ]
                    },
                    "colorway": [
                      "#636efa",
                      "#EF553B",
                      "#00cc96",
                      "#ab63fa",
                      "#FFA15A",
                      "#19d3f3",
                      "#FF6692",
                      "#B6E880",
                      "#FF97FF",
                      "#FECB52"
                    ],
                    "font": {
                      "color": "#2a3f5f"
                    },
                    "geo": {
                      "bgcolor": "white",
                      "lakecolor": "white",
                      "landcolor": "#E5ECF6",
                      "showlakes": true,
                      "showland": true,
                      "subunitcolor": "white"
                    },
                    "hoverlabel": {
                      "align": "left"
                    },
                    "hovermode": "closest",
                    "mapbox": {
                      "style": "light"
                    },
                    "paper_bgcolor": "white",
                    "plot_bgcolor": "#E5ECF6",
                    "polar": {
                      "angularaxis": {
                        "gridcolor": "white",
                        "linecolor": "white",
                        "ticks": ""
                      },
                      "bgcolor": "#E5ECF6",
                      "radialaxis": {
                        "gridcolor": "white",
                        "linecolor": "white",
                        "ticks": ""
                      }
                    },
                    "scene": {
                      "xaxis": {
                        "backgroundcolor": "#E5ECF6",
                        "gridcolor": "white",
                        "gridwidth": 2,
                        "linecolor": "white",
                        "showbackground": true,
                        "ticks": "",
                        "zerolinecolor": "white"
                      },
                      "yaxis": {
                        "backgroundcolor": "#E5ECF6",
                        "gridcolor": "white",
                        "gridwidth": 2,
                        "linecolor": "white",
                        "showbackground": true,
                        "ticks": "",
                        "zerolinecolor": "white"
                      },
                      "zaxis": {
                        "backgroundcolor": "#E5ECF6",
                        "gridcolor": "white",
                        "gridwidth": 2,
                        "linecolor": "white",
                        "showbackground": true,
                        "ticks": "",
                        "zerolinecolor": "white"
                      }
                    },
                    "shapedefaults": {
                      "line": {
                        "color": "#2a3f5f"
                      }
                    },
                    "ternary": {
                      "aaxis": {
                        "gridcolor": "white",
                        "linecolor": "white",
                        "ticks": ""
                      },
                      "baxis": {
                        "gridcolor": "white",
                        "linecolor": "white",
                        "ticks": ""
                      },
                      "bgcolor": "#E5ECF6",
                      "caxis": {
                        "gridcolor": "white",
                        "linecolor": "white",
                        "ticks": ""
                      }
                    },
                    "title": {
                      "x": 0.05
                    },
                    "xaxis": {
                      "automargin": true,
                      "gridcolor": "white",
                      "linecolor": "white",
                      "ticks": "",
                      "title": {
                        "standoff": 15
                      },
                      "zerolinecolor": "white",
                      "zerolinewidth": 2
                    },
                    "yaxis": {
                      "automargin": true,
                      "gridcolor": "white",
                      "linecolor": "white",
                      "ticks": "",
                      "title": {
                        "standoff": 15
                      },
                      "zerolinecolor": "white",
                      "zerolinewidth": 2
                    }
                  }
                }
              }
            },
            "text/html": [
              "<div>                            <div id=\"81946f75-118b-4fa7-9181-e36f2577cedf\" class=\"plotly-graph-div\" style=\"height:525px; width:100%;\"></div>            <script type=\"text/javascript\">                require([\"plotly\"], function(Plotly) {                    window.PLOTLYENV=window.PLOTLYENV || {};                                    if (document.getElementById(\"81946f75-118b-4fa7-9181-e36f2577cedf\")) {                    Plotly.newPlot(                        \"81946f75-118b-4fa7-9181-e36f2577cedf\",                        [{\"domain\":{\"x\":[0.0,1.0],\"y\":[0.0,1.0]},\"hole\":0.4,\"hoverinfo\":\"label+percent\",\"hovertemplate\":\"label=%{label}<br>value=%{value}<extra></extra>\",\"labels\":[\"depression\",\"Anxiety\",\"bipolar\",\"mentalhealth\",\"BPD\",\"schizophrenia\",\"autism\"],\"legendgroup\":\"\",\"marker\":{\"line\":{\"width\":1}},\"name\":\"\",\"showlegend\":true,\"textinfo\":\"percent+label\",\"textposition\":\"auto\",\"values\":[257982,86132,41034,38997,38137,17436,7132],\"type\":\"pie\"}],                        {\"annotations\":[{\"font\":{\"size\":17},\"showarrow\":false,\"text\":\"Percentages\"}],\"legend\":{\"tracegroupgap\":0},\"margin\":{\"t\":60},\"template\":{\"data\":{\"barpolar\":[{\"marker\":{\"line\":{\"color\":\"#E5ECF6\",\"width\":0.5},\"pattern\":{\"fillmode\":\"overlay\",\"size\":10,\"solidity\":0.2}},\"type\":\"barpolar\"}],\"bar\":[{\"error_x\":{\"color\":\"#2a3f5f\"},\"error_y\":{\"color\":\"#2a3f5f\"},\"marker\":{\"line\":{\"color\":\"#E5ECF6\",\"width\":0.5},\"pattern\":{\"fillmode\":\"overlay\",\"size\":10,\"solidity\":0.2}},\"type\":\"bar\"}],\"carpet\":[{\"aaxis\":{\"endlinecolor\":\"#2a3f5f\",\"gridcolor\":\"white\",\"linecolor\":\"white\",\"minorgridcolor\":\"white\",\"startlinecolor\":\"#2a3f5f\"},\"baxis\":{\"endlinecolor\":\"#2a3f5f\",\"gridcolor\":\"white\",\"linecolor\":\"white\",\"minorgridcolor\":\"white\",\"startlinecolor\":\"#2a3f5f\"},\"type\":\"carpet\"}],\"choropleth\":[{\"colorbar\":{\"outlinewidth\":0,\"ticks\":\"\"},\"type\":\"choropleth\"}],\"contourcarpet\":[{\"colorbar\":{\"outlinewidth\":0,\"ticks\":\"\"},\"type\":\"contourcarpet\"}],\"contour\":[{\"colorbar\":{\"outlinewidth\":0,\"ticks\":\"\"},\"colorscale\":[[0.0,\"#0d0887\"],[0.1111111111111111,\"#46039f\"],[0.2222222222222222,\"#7201a8\"],[0.3333333333333333,\"#9c179e\"],[0.4444444444444444,\"#bd3786\"],[0.5555555555555556,\"#d8576b\"],[0.6666666666666666,\"#ed7953\"],[0.7777777777777778,\"#fb9f3a\"],[0.8888888888888888,\"#fdca26\"],[1.0,\"#f0f921\"]],\"type\":\"contour\"}],\"heatmapgl\":[{\"colorbar\":{\"outlinewidth\":0,\"ticks\":\"\"},\"colorscale\":[[0.0,\"#0d0887\"],[0.1111111111111111,\"#46039f\"],[0.2222222222222222,\"#7201a8\"],[0.3333333333333333,\"#9c179e\"],[0.4444444444444444,\"#bd3786\"],[0.5555555555555556,\"#d8576b\"],[0.6666666666666666,\"#ed7953\"],[0.7777777777777778,\"#fb9f3a\"],[0.8888888888888888,\"#fdca26\"],[1.0,\"#f0f921\"]],\"type\":\"heatmapgl\"}],\"heatmap\":[{\"colorbar\":{\"outlinewidth\":0,\"ticks\":\"\"},\"colorscale\":[[0.0,\"#0d0887\"],[0.1111111111111111,\"#46039f\"],[0.2222222222222222,\"#7201a8\"],[0.3333333333333333,\"#9c179e\"],[0.4444444444444444,\"#bd3786\"],[0.5555555555555556,\"#d8576b\"],[0.6666666666666666,\"#ed7953\"],[0.7777777777777778,\"#fb9f3a\"],[0.8888888888888888,\"#fdca26\"],[1.0,\"#f0f921\"]],\"type\":\"heatmap\"}],\"histogram2dcontour\":[{\"colorbar\":{\"outlinewidth\":0,\"ticks\":\"\"},\"colorscale\":[[0.0,\"#0d0887\"],[0.1111111111111111,\"#46039f\"],[0.2222222222222222,\"#7201a8\"],[0.3333333333333333,\"#9c179e\"],[0.4444444444444444,\"#bd3786\"],[0.5555555555555556,\"#d8576b\"],[0.6666666666666666,\"#ed7953\"],[0.7777777777777778,\"#fb9f3a\"],[0.8888888888888888,\"#fdca26\"],[1.0,\"#f0f921\"]],\"type\":\"histogram2dcontour\"}],\"histogram2d\":[{\"colorbar\":{\"outlinewidth\":0,\"ticks\":\"\"},\"colorscale\":[[0.0,\"#0d0887\"],[0.1111111111111111,\"#46039f\"],[0.2222222222222222,\"#7201a8\"],[0.3333333333333333,\"#9c179e\"],[0.4444444444444444,\"#bd3786\"],[0.5555555555555556,\"#d8576b\"],[0.6666666666666666,\"#ed7953\"],[0.7777777777777778,\"#fb9f3a\"],[0.8888888888888888,\"#fdca26\"],[1.0,\"#f0f921\"]],\"type\":\"histogram2d\"}],\"histogram\":[{\"marker\":{\"pattern\":{\"fillmode\":\"overlay\",\"size\":10,\"solidity\":0.2}},\"type\":\"histogram\"}],\"mesh3d\":[{\"colorbar\":{\"outlinewidth\":0,\"ticks\":\"\"},\"type\":\"mesh3d\"}],\"parcoords\":[{\"line\":{\"colorbar\":{\"outlinewidth\":0,\"ticks\":\"\"}},\"type\":\"parcoords\"}],\"pie\":[{\"automargin\":true,\"type\":\"pie\"}],\"scatter3d\":[{\"line\":{\"colorbar\":{\"outlinewidth\":0,\"ticks\":\"\"}},\"marker\":{\"colorbar\":{\"outlinewidth\":0,\"ticks\":\"\"}},\"type\":\"scatter3d\"}],\"scattercarpet\":[{\"marker\":{\"colorbar\":{\"outlinewidth\":0,\"ticks\":\"\"}},\"type\":\"scattercarpet\"}],\"scattergeo\":[{\"marker\":{\"colorbar\":{\"outlinewidth\":0,\"ticks\":\"\"}},\"type\":\"scattergeo\"}],\"scattergl\":[{\"marker\":{\"colorbar\":{\"outlinewidth\":0,\"ticks\":\"\"}},\"type\":\"scattergl\"}],\"scattermapbox\":[{\"marker\":{\"colorbar\":{\"outlinewidth\":0,\"ticks\":\"\"}},\"type\":\"scattermapbox\"}],\"scatterpolargl\":[{\"marker\":{\"colorbar\":{\"outlinewidth\":0,\"ticks\":\"\"}},\"type\":\"scatterpolargl\"}],\"scatterpolar\":[{\"marker\":{\"colorbar\":{\"outlinewidth\":0,\"ticks\":\"\"}},\"type\":\"scatterpolar\"}],\"scatter\":[{\"fillpattern\":{\"fillmode\":\"overlay\",\"size\":10,\"solidity\":0.2},\"type\":\"scatter\"}],\"scatterternary\":[{\"marker\":{\"colorbar\":{\"outlinewidth\":0,\"ticks\":\"\"}},\"type\":\"scatterternary\"}],\"surface\":[{\"colorbar\":{\"outlinewidth\":0,\"ticks\":\"\"},\"colorscale\":[[0.0,\"#0d0887\"],[0.1111111111111111,\"#46039f\"],[0.2222222222222222,\"#7201a8\"],[0.3333333333333333,\"#9c179e\"],[0.4444444444444444,\"#bd3786\"],[0.5555555555555556,\"#d8576b\"],[0.6666666666666666,\"#ed7953\"],[0.7777777777777778,\"#fb9f3a\"],[0.8888888888888888,\"#fdca26\"],[1.0,\"#f0f921\"]],\"type\":\"surface\"}],\"table\":[{\"cells\":{\"fill\":{\"color\":\"#EBF0F8\"},\"line\":{\"color\":\"white\"}},\"header\":{\"fill\":{\"color\":\"#C8D4E3\"},\"line\":{\"color\":\"white\"}},\"type\":\"table\"}]},\"layout\":{\"annotationdefaults\":{\"arrowcolor\":\"#2a3f5f\",\"arrowhead\":0,\"arrowwidth\":1},\"autotypenumbers\":\"strict\",\"coloraxis\":{\"colorbar\":{\"outlinewidth\":0,\"ticks\":\"\"}},\"colorscale\":{\"diverging\":[[0,\"#8e0152\"],[0.1,\"#c51b7d\"],[0.2,\"#de77ae\"],[0.3,\"#f1b6da\"],[0.4,\"#fde0ef\"],[0.5,\"#f7f7f7\"],[0.6,\"#e6f5d0\"],[0.7,\"#b8e186\"],[0.8,\"#7fbc41\"],[0.9,\"#4d9221\"],[1,\"#276419\"]],\"sequential\":[[0.0,\"#0d0887\"],[0.1111111111111111,\"#46039f\"],[0.2222222222222222,\"#7201a8\"],[0.3333333333333333,\"#9c179e\"],[0.4444444444444444,\"#bd3786\"],[0.5555555555555556,\"#d8576b\"],[0.6666666666666666,\"#ed7953\"],[0.7777777777777778,\"#fb9f3a\"],[0.8888888888888888,\"#fdca26\"],[1.0,\"#f0f921\"]],\"sequentialminus\":[[0.0,\"#0d0887\"],[0.1111111111111111,\"#46039f\"],[0.2222222222222222,\"#7201a8\"],[0.3333333333333333,\"#9c179e\"],[0.4444444444444444,\"#bd3786\"],[0.5555555555555556,\"#d8576b\"],[0.6666666666666666,\"#ed7953\"],[0.7777777777777778,\"#fb9f3a\"],[0.8888888888888888,\"#fdca26\"],[1.0,\"#f0f921\"]]},\"colorway\":[\"#636efa\",\"#EF553B\",\"#00cc96\",\"#ab63fa\",\"#FFA15A\",\"#19d3f3\",\"#FF6692\",\"#B6E880\",\"#FF97FF\",\"#FECB52\"],\"font\":{\"color\":\"#2a3f5f\"},\"geo\":{\"bgcolor\":\"white\",\"lakecolor\":\"white\",\"landcolor\":\"#E5ECF6\",\"showlakes\":true,\"showland\":true,\"subunitcolor\":\"white\"},\"hoverlabel\":{\"align\":\"left\"},\"hovermode\":\"closest\",\"mapbox\":{\"style\":\"light\"},\"paper_bgcolor\":\"white\",\"plot_bgcolor\":\"#E5ECF6\",\"polar\":{\"angularaxis\":{\"gridcolor\":\"white\",\"linecolor\":\"white\",\"ticks\":\"\"},\"bgcolor\":\"#E5ECF6\",\"radialaxis\":{\"gridcolor\":\"white\",\"linecolor\":\"white\",\"ticks\":\"\"}},\"scene\":{\"xaxis\":{\"backgroundcolor\":\"#E5ECF6\",\"gridcolor\":\"white\",\"gridwidth\":2,\"linecolor\":\"white\",\"showbackground\":true,\"ticks\":\"\",\"zerolinecolor\":\"white\"},\"yaxis\":{\"backgroundcolor\":\"#E5ECF6\",\"gridcolor\":\"white\",\"gridwidth\":2,\"linecolor\":\"white\",\"showbackground\":true,\"ticks\":\"\",\"zerolinecolor\":\"white\"},\"zaxis\":{\"backgroundcolor\":\"#E5ECF6\",\"gridcolor\":\"white\",\"gridwidth\":2,\"linecolor\":\"white\",\"showbackground\":true,\"ticks\":\"\",\"zerolinecolor\":\"white\"}},\"shapedefaults\":{\"line\":{\"color\":\"#2a3f5f\"}},\"ternary\":{\"aaxis\":{\"gridcolor\":\"white\",\"linecolor\":\"white\",\"ticks\":\"\"},\"baxis\":{\"gridcolor\":\"white\",\"linecolor\":\"white\",\"ticks\":\"\"},\"bgcolor\":\"#E5ECF6\",\"caxis\":{\"gridcolor\":\"white\",\"linecolor\":\"white\",\"ticks\":\"\"}},\"title\":{\"x\":0.05},\"xaxis\":{\"automargin\":true,\"gridcolor\":\"white\",\"linecolor\":\"white\",\"ticks\":\"\",\"title\":{\"standoff\":15},\"zerolinecolor\":\"white\",\"zerolinewidth\":2},\"yaxis\":{\"automargin\":true,\"gridcolor\":\"white\",\"linecolor\":\"white\",\"ticks\":\"\",\"title\":{\"standoff\":15},\"zerolinecolor\":\"white\",\"zerolinewidth\":2}}}},                        {\"responsive\": true}                    ).then(function(){\n",
              "                            \n",
              "var gd = document.getElementById('81946f75-118b-4fa7-9181-e36f2577cedf');\n",
              "var x = new MutationObserver(function (mutations, observer) {{\n",
              "        var display = window.getComputedStyle(gd).display;\n",
              "        if (!display || display === 'none') {{\n",
              "            console.log([gd, 'removed!']);\n",
              "            Plotly.purge(gd);\n",
              "            observer.disconnect();\n",
              "        }}\n",
              "}});\n",
              "\n",
              "// Listen for the removal of the full notebook cells\n",
              "var notebookContainer = gd.closest('#notebook-container');\n",
              "if (notebookContainer) {{\n",
              "    x.observe(notebookContainer, {childList: true});\n",
              "}}\n",
              "\n",
              "// Listen for the clearing of the current output cell\n",
              "var outputEl = gd.closest('.output');\n",
              "if (outputEl) {{\n",
              "    x.observe(outputEl, {childList: true});\n",
              "}}\n",
              "\n",
              "                        })                };                });            </script>        </div>"
            ]
          },
          "metadata": {},
          "output_type": "display_data"
        }
      ],
      "source": [
        "fig1 = px.pie(data,values=data.Subreddit.value_counts(),names=data.Subreddit.value_counts().index)\n",
        "fig1.update_traces(textposition='auto', textinfo='percent+label',marker={\"line\":{\"width\":1}},hoverinfo='label+percent',hole=0.4)\n",
        "fig1.update_layout(annotations=[{\"text\":\"Percentages\",\"showarrow\":False,\"font_size\":17}])\n",
        "iplot(fig1)"
      ]
    },
    {
      "cell_type": "code",
      "execution_count": null,
      "metadata": {
        "id": "cvzWI2dloLUr"
      },
      "outputs": [],
      "source": [
        "import re\n",
        "\n",
        "wordList = list()\n",
        "for i in range(len(data)):\n",
        "    temp = data.Content[i].split()\n",
        "    for k in temp:\n",
        "        k = re.sub(\"[^a-zA-ZğĞüÜşŞıİöÖçÇ]\",\"\",k)\n",
        "        if k != \"\":\n",
        "            wordList.append(k)"
      ]
    },
    {
      "cell_type": "code",
      "execution_count": null,
      "metadata": {
        "colab": {
          "base_uri": "https://localhost:8080/"
        },
        "id": "lTFWb8phqDEI",
        "outputId": "b36f38fa-23be-4298-a119-cd56c4475d49"
      },
      "outputs": [
        {
          "name": "stdout",
          "output_type": "stream",
          "text": [
            "Most Used 20 Words\n",
            "I : 5082798\n",
            "to : 3204726\n",
            "and : 2885966\n",
            "the : 1990751\n",
            "a : 1948452\n",
            "my : 1739717\n",
            "of : 1447777\n",
            "me : 1229978\n",
            "that : 1116560\n",
            "it : 1087730\n",
            "in : 1023726\n",
            "Im : 929206\n",
            "for : 864936\n",
            "have : 832138\n",
            "is : 825309\n",
            "but : 792227\n",
            "with : 766720\n",
            "was : 733992\n",
            "just : 709621\n",
            "this : 703672\n"
          ]
        }
      ],
      "source": [
        "from collections import Counter\n",
        "\n",
        "wordCount = Counter(wordList)\n",
        "countedWordDict = dict(wordCount)\n",
        "sortedWordDict = sorted(countedWordDict.items(),key = lambda x : x[1],reverse=True)\n",
        "\n",
        "print(\"Most Used 20 Words\")\n",
        "for word,counted in sortedWordDict[0:20]:\n",
        "    print(\"{} : {}\".format(word,counted))"
      ]
    },
    {
      "cell_type": "code",
      "execution_count": null,
      "metadata": {
        "colab": {
          "base_uri": "https://localhost:8080/"
        },
        "id": "XoCRqckwqR6h",
        "outputId": "b1ef4192-1fb9-4beb-d6f0-5390e45c07cf"
      },
      "outputs": [
        {
          "name": "stdout",
          "output_type": "stream",
          "text": [
            "Lifetime anxiety 47M\n",
            "\n",
            "I've been anxious for as long as I can remember. When I was 7, I made my sister go ask for ketchup at McDonalds because I was so afraid. Anxiety has cost me relationships, jobs, friends, money. I don't have FOMO, but I know I've missed out,\n",
            "********************\n",
            "Social anxiety help for NYE - I don't know anyone Hi r/anxiety \n",
            "\n",
            "I'm invited to a new year eve party tonight with all my boyfriend's friends. We've been together 4.5 years. However, I've only met his whole friendship group a couple of times due to my anxiety with large groups of people and, you know, just anxiety in general.\n",
            "\n",
            "Last time I went and met them all, there were a couple of girls I really liked and seemed to get on well with. We followed each other on insta and facebook and that was that. We'd like and comment on each other's stuff but that was it. \n",
            "\n",
            "I thought that they'd be going to this party tonight so I looked them up to see if they were going, however both of them have deleted me off their social media accounts and now I'm terrified of going to this party because one - I have no idea who is going and two - people who I thought liked me, obviously don't.\n",
            "\n",
            "I don't know what to do, I want to go because it'll make my boyfriend happy, but I'm now in full panic mode about everyone talking behind my back or ignoring me. \n",
            "********************\n"
          ]
        }
      ],
      "source": [
        "for i in data[\"Content\"][7:10]:\n",
        "    if \"I\" in i:\n",
        "        print(i)\n",
        "        print(\"*\"*20)"
      ]
    },
    {
      "cell_type": "code",
      "execution_count": null,
      "metadata": {
        "colab": {
          "base_uri": "https://localhost:8080/"
        },
        "id": "kD7V6E44rnhT",
        "outputId": "e63c1d12-9950-4858-aece-3e6e9e29c963"
      },
      "outputs": [
        {
          "name": "stdout",
          "output_type": "stream",
          "text": [
            "REAL Most Used 20 Words\n",
            "I : 5082798\n",
            "to : 3204726\n",
            "and : 2885966\n",
            "the : 1990751\n",
            "a : 1948452\n",
            "my : 1739717\n",
            "of : 1447777\n",
            "me : 1229978\n",
            "that : 1116560\n",
            "it : 1087730\n",
            "in : 1023726\n",
            "Im : 929206\n",
            "for : 864936\n",
            "have : 832138\n",
            "is : 825309\n",
            "but : 792227\n",
            "with : 766720\n",
            "was : 733992\n",
            "just : 709621\n",
            "this : 703672\n"
          ]
        }
      ],
      "source": [
        "wordList = list()\n",
        "for i in range(len(data)):\n",
        "    temp = data.Content[i].split()\n",
        "    for k in temp:\n",
        "        k = re.sub(\"[^a-zA-ZğĞüÜşŞıİöÖçÇ]\",\"\",k)\n",
        "        if k != \"\":\n",
        "            wordList.append(k)\n",
        "wordCount = Counter(wordList)\n",
        "countedWordDict = dict(wordCount)\n",
        "sortedWordDict = sorted(countedWordDict.items(),key = lambda x : x[1],reverse=True)\n",
        "print(\"REAL Most Used 20 Words\")\n",
        "for word,counted in sortedWordDict[0:20]:\n",
        "    print(\"{} : {}\".format(word,counted))"
      ]
    },
    {
      "cell_type": "code",
      "execution_count": null,
      "metadata": {
        "id": "LyeHkX-us8bw"
      },
      "outputs": [],
      "source": [
        "num = 75 # For using most used 75 words\n",
        "list1 = list()\n",
        "list2 = list()\n",
        "for i in range(num):\n",
        "    list1.append(wordCount.most_common(num)[i][0])\n",
        "    list2.append(wordCount.most_common(num)[i][1])"
      ]
    },
    {
      "cell_type": "code",
      "execution_count": null,
      "metadata": {
        "colab": {
          "base_uri": "https://localhost:8080/",
          "height": 542
        },
        "id": "3GtdA-jDtJB0",
        "outputId": "29d41648-484e-4182-d08a-dec85d66a5a3"
      },
      "outputs": [
        {
          "data": {
            "application/vnd.plotly.v1+json": {
              "config": {
                "plotlyServerURL": "https://plot.ly"
              },
              "data": [
                {
                  "alignmentgroup": "True",
                  "customdata": [
                    [
                      "I",
                      5082798
                    ],
                    [
                      "to",
                      3204726
                    ],
                    [
                      "and",
                      2885966
                    ],
                    [
                      "the",
                      1990751
                    ],
                    [
                      "a",
                      1948452
                    ],
                    [
                      "my",
                      1739717
                    ],
                    [
                      "of",
                      1447777
                    ],
                    [
                      "me",
                      1229978
                    ],
                    [
                      "that",
                      1116560
                    ],
                    [
                      "it",
                      1087730
                    ],
                    [
                      "in",
                      1023726
                    ],
                    [
                      "Im",
                      929206
                    ],
                    [
                      "for",
                      864936
                    ],
                    [
                      "have",
                      832138
                    ],
                    [
                      "is",
                      825309
                    ],
                    [
                      "but",
                      792227
                    ],
                    [
                      "with",
                      766720
                    ],
                    [
                      "was",
                      733992
                    ],
                    [
                      "just",
                      709621
                    ],
                    [
                      "this",
                      703672
                    ],
                    [
                      "like",
                      618865
                    ],
                    [
                      "so",
                      556282
                    ],
                    [
                      "dont",
                      550917
                    ],
                    [
                      "on",
                      540203
                    ],
                    [
                      "be",
                      535806
                    ],
                    [
                      "feel",
                      527478
                    ],
                    [
                      "not",
                      495285
                    ],
                    [
                      "or",
                      465886
                    ],
                    [
                      "do",
                      462651
                    ],
                    [
                      "about",
                      461561
                    ],
                    [
                      "i",
                      453210
                    ],
                    [
                      "you",
                      437036
                    ],
                    [
                      "at",
                      408584
                    ],
                    [
                      "know",
                      402109
                    ],
                    [
                      "all",
                      384473
                    ],
                    [
                      "out",
                      380533
                    ],
                    [
                      "get",
                      369110
                    ],
                    [
                      "Ive",
                      360977
                    ],
                    [
                      "been",
                      360274
                    ],
                    [
                      "because",
                      356298
                    ],
                    [
                      "up",
                      355768
                    ],
                    [
                      "as",
                      342929
                    ],
                    [
                      "want",
                      336557
                    ],
                    [
                      "if",
                      331094
                    ],
                    [
                      "am",
                      323652
                    ],
                    [
                      "had",
                      314492
                    ],
                    [
                      "myself",
                      312522
                    ],
                    [
                      "what",
                      311327
                    ],
                    [
                      "time",
                      309373
                    ],
                    [
                      "her",
                      302036
                    ],
                    [
                      "really",
                      297658
                    ],
                    [
                      "when",
                      295420
                    ],
                    [
                      "life",
                      293961
                    ],
                    [
                      "its",
                      283826
                    ],
                    [
                      "people",
                      269004
                    ],
                    [
                      "can",
                      267811
                    ],
                    [
                      "even",
                      261823
                    ],
                    [
                      "how",
                      261395
                    ],
                    [
                      "from",
                      261275
                    ],
                    [
                      "cant",
                      260369
                    ],
                    [
                      "she",
                      258692
                    ],
                    [
                      "are",
                      257643
                    ],
                    [
                      "now",
                      248287
                    ],
                    [
                      "they",
                      242684
                    ],
                    [
                      "no",
                      232625
                    ],
                    [
                      "he",
                      232149
                    ],
                    [
                      "would",
                      226124
                    ],
                    [
                      "one",
                      221306
                    ],
                    [
                      "think",
                      210294
                    ],
                    [
                      "has",
                      208261
                    ],
                    [
                      "an",
                      207809
                    ],
                    [
                      "them",
                      206721
                    ],
                    [
                      "going",
                      206104
                    ],
                    [
                      "go",
                      205916
                    ],
                    [
                      "more",
                      199825
                    ]
                  ],
                  "hovertemplate": "Word:'%{x}' Value: %{y}",
                  "hovertext": [
                    "I",
                    "to",
                    "and",
                    "the",
                    "a",
                    "my",
                    "of",
                    "me",
                    "that",
                    "it",
                    "in",
                    "Im",
                    "for",
                    "have",
                    "is",
                    "but",
                    "with",
                    "was",
                    "just",
                    "this",
                    "like",
                    "so",
                    "dont",
                    "on",
                    "be",
                    "feel",
                    "not",
                    "or",
                    "do",
                    "about",
                    "i",
                    "you",
                    "at",
                    "know",
                    "all",
                    "out",
                    "get",
                    "Ive",
                    "been",
                    "because",
                    "up",
                    "as",
                    "want",
                    "if",
                    "am",
                    "had",
                    "myself",
                    "what",
                    "time",
                    "her",
                    "really",
                    "when",
                    "life",
                    "its",
                    "people",
                    "can",
                    "even",
                    "how",
                    "from",
                    "cant",
                    "she",
                    "are",
                    "now",
                    "they",
                    "no",
                    "he",
                    "would",
                    "one",
                    "think",
                    "has",
                    "an",
                    "them",
                    "going",
                    "go",
                    "more"
                  ],
                  "legendgroup": "",
                  "marker": {
                    "color": [
                      5082798,
                      3204726,
                      2885966,
                      1990751,
                      1948452,
                      1739717,
                      1447777,
                      1229978,
                      1116560,
                      1087730,
                      1023726,
                      929206,
                      864936,
                      832138,
                      825309,
                      792227,
                      766720,
                      733992,
                      709621,
                      703672,
                      618865,
                      556282,
                      550917,
                      540203,
                      535806,
                      527478,
                      495285,
                      465886,
                      462651,
                      461561,
                      453210,
                      437036,
                      408584,
                      402109,
                      384473,
                      380533,
                      369110,
                      360977,
                      360274,
                      356298,
                      355768,
                      342929,
                      336557,
                      331094,
                      323652,
                      314492,
                      312522,
                      311327,
                      309373,
                      302036,
                      297658,
                      295420,
                      293961,
                      283826,
                      269004,
                      267811,
                      261823,
                      261395,
                      261275,
                      260369,
                      258692,
                      257643,
                      248287,
                      242684,
                      232625,
                      232149,
                      226124,
                      221306,
                      210294,
                      208261,
                      207809,
                      206721,
                      206104,
                      205916,
                      199825
                    ],
                    "coloraxis": "coloraxis",
                    "pattern": {
                      "shape": ""
                    }
                  },
                  "name": "",
                  "offsetgroup": "",
                  "orientation": "v",
                  "showlegend": false,
                  "textposition": "auto",
                  "type": "bar",
                  "x": [
                    "I",
                    "to",
                    "and",
                    "the",
                    "a",
                    "my",
                    "of",
                    "me",
                    "that",
                    "it",
                    "in",
                    "Im",
                    "for",
                    "have",
                    "is",
                    "but",
                    "with",
                    "was",
                    "just",
                    "this",
                    "like",
                    "so",
                    "dont",
                    "on",
                    "be",
                    "feel",
                    "not",
                    "or",
                    "do",
                    "about",
                    "i",
                    "you",
                    "at",
                    "know",
                    "all",
                    "out",
                    "get",
                    "Ive",
                    "been",
                    "because",
                    "up",
                    "as",
                    "want",
                    "if",
                    "am",
                    "had",
                    "myself",
                    "what",
                    "time",
                    "her",
                    "really",
                    "when",
                    "life",
                    "its",
                    "people",
                    "can",
                    "even",
                    "how",
                    "from",
                    "cant",
                    "she",
                    "are",
                    "now",
                    "they",
                    "no",
                    "he",
                    "would",
                    "one",
                    "think",
                    "has",
                    "an",
                    "them",
                    "going",
                    "go",
                    "more"
                  ],
                  "xaxis": "x",
                  "y": [
                    5082798,
                    3204726,
                    2885966,
                    1990751,
                    1948452,
                    1739717,
                    1447777,
                    1229978,
                    1116560,
                    1087730,
                    1023726,
                    929206,
                    864936,
                    832138,
                    825309,
                    792227,
                    766720,
                    733992,
                    709621,
                    703672,
                    618865,
                    556282,
                    550917,
                    540203,
                    535806,
                    527478,
                    495285,
                    465886,
                    462651,
                    461561,
                    453210,
                    437036,
                    408584,
                    402109,
                    384473,
                    380533,
                    369110,
                    360977,
                    360274,
                    356298,
                    355768,
                    342929,
                    336557,
                    331094,
                    323652,
                    314492,
                    312522,
                    311327,
                    309373,
                    302036,
                    297658,
                    295420,
                    293961,
                    283826,
                    269004,
                    267811,
                    261823,
                    261395,
                    261275,
                    260369,
                    258692,
                    257643,
                    248287,
                    242684,
                    232625,
                    232149,
                    226124,
                    221306,
                    210294,
                    208261,
                    207809,
                    206721,
                    206104,
                    205916,
                    199825
                  ],
                  "yaxis": "y"
                }
              ],
              "layout": {
                "barmode": "relative",
                "coloraxis": {
                  "colorbar": {
                    "title": {
                      "text": "color"
                    }
                  },
                  "colorscale": [
                    [
                      0,
                      "#0d0887"
                    ],
                    [
                      0.1111111111111111,
                      "#46039f"
                    ],
                    [
                      0.2222222222222222,
                      "#7201a8"
                    ],
                    [
                      0.3333333333333333,
                      "#9c179e"
                    ],
                    [
                      0.4444444444444444,
                      "#bd3786"
                    ],
                    [
                      0.5555555555555556,
                      "#d8576b"
                    ],
                    [
                      0.6666666666666666,
                      "#ed7953"
                    ],
                    [
                      0.7777777777777778,
                      "#fb9f3a"
                    ],
                    [
                      0.8888888888888888,
                      "#fdca26"
                    ],
                    [
                      1,
                      "#f0f921"
                    ]
                  ]
                },
                "legend": {
                  "tracegroupgap": 0
                },
                "margin": {
                  "t": 60
                },
                "plot_bgcolor": "white",
                "template": {
                  "data": {
                    "bar": [
                      {
                        "error_x": {
                          "color": "#2a3f5f"
                        },
                        "error_y": {
                          "color": "#2a3f5f"
                        },
                        "marker": {
                          "line": {
                            "color": "#E5ECF6",
                            "width": 0.5
                          },
                          "pattern": {
                            "fillmode": "overlay",
                            "size": 10,
                            "solidity": 0.2
                          }
                        },
                        "type": "bar"
                      }
                    ],
                    "barpolar": [
                      {
                        "marker": {
                          "line": {
                            "color": "#E5ECF6",
                            "width": 0.5
                          },
                          "pattern": {
                            "fillmode": "overlay",
                            "size": 10,
                            "solidity": 0.2
                          }
                        },
                        "type": "barpolar"
                      }
                    ],
                    "carpet": [
                      {
                        "aaxis": {
                          "endlinecolor": "#2a3f5f",
                          "gridcolor": "white",
                          "linecolor": "white",
                          "minorgridcolor": "white",
                          "startlinecolor": "#2a3f5f"
                        },
                        "baxis": {
                          "endlinecolor": "#2a3f5f",
                          "gridcolor": "white",
                          "linecolor": "white",
                          "minorgridcolor": "white",
                          "startlinecolor": "#2a3f5f"
                        },
                        "type": "carpet"
                      }
                    ],
                    "choropleth": [
                      {
                        "colorbar": {
                          "outlinewidth": 0,
                          "ticks": ""
                        },
                        "type": "choropleth"
                      }
                    ],
                    "contour": [
                      {
                        "colorbar": {
                          "outlinewidth": 0,
                          "ticks": ""
                        },
                        "colorscale": [
                          [
                            0,
                            "#0d0887"
                          ],
                          [
                            0.1111111111111111,
                            "#46039f"
                          ],
                          [
                            0.2222222222222222,
                            "#7201a8"
                          ],
                          [
                            0.3333333333333333,
                            "#9c179e"
                          ],
                          [
                            0.4444444444444444,
                            "#bd3786"
                          ],
                          [
                            0.5555555555555556,
                            "#d8576b"
                          ],
                          [
                            0.6666666666666666,
                            "#ed7953"
                          ],
                          [
                            0.7777777777777778,
                            "#fb9f3a"
                          ],
                          [
                            0.8888888888888888,
                            "#fdca26"
                          ],
                          [
                            1,
                            "#f0f921"
                          ]
                        ],
                        "type": "contour"
                      }
                    ],
                    "contourcarpet": [
                      {
                        "colorbar": {
                          "outlinewidth": 0,
                          "ticks": ""
                        },
                        "type": "contourcarpet"
                      }
                    ],
                    "heatmap": [
                      {
                        "colorbar": {
                          "outlinewidth": 0,
                          "ticks": ""
                        },
                        "colorscale": [
                          [
                            0,
                            "#0d0887"
                          ],
                          [
                            0.1111111111111111,
                            "#46039f"
                          ],
                          [
                            0.2222222222222222,
                            "#7201a8"
                          ],
                          [
                            0.3333333333333333,
                            "#9c179e"
                          ],
                          [
                            0.4444444444444444,
                            "#bd3786"
                          ],
                          [
                            0.5555555555555556,
                            "#d8576b"
                          ],
                          [
                            0.6666666666666666,
                            "#ed7953"
                          ],
                          [
                            0.7777777777777778,
                            "#fb9f3a"
                          ],
                          [
                            0.8888888888888888,
                            "#fdca26"
                          ],
                          [
                            1,
                            "#f0f921"
                          ]
                        ],
                        "type": "heatmap"
                      }
                    ],
                    "heatmapgl": [
                      {
                        "colorbar": {
                          "outlinewidth": 0,
                          "ticks": ""
                        },
                        "colorscale": [
                          [
                            0,
                            "#0d0887"
                          ],
                          [
                            0.1111111111111111,
                            "#46039f"
                          ],
                          [
                            0.2222222222222222,
                            "#7201a8"
                          ],
                          [
                            0.3333333333333333,
                            "#9c179e"
                          ],
                          [
                            0.4444444444444444,
                            "#bd3786"
                          ],
                          [
                            0.5555555555555556,
                            "#d8576b"
                          ],
                          [
                            0.6666666666666666,
                            "#ed7953"
                          ],
                          [
                            0.7777777777777778,
                            "#fb9f3a"
                          ],
                          [
                            0.8888888888888888,
                            "#fdca26"
                          ],
                          [
                            1,
                            "#f0f921"
                          ]
                        ],
                        "type": "heatmapgl"
                      }
                    ],
                    "histogram": [
                      {
                        "marker": {
                          "pattern": {
                            "fillmode": "overlay",
                            "size": 10,
                            "solidity": 0.2
                          }
                        },
                        "type": "histogram"
                      }
                    ],
                    "histogram2d": [
                      {
                        "colorbar": {
                          "outlinewidth": 0,
                          "ticks": ""
                        },
                        "colorscale": [
                          [
                            0,
                            "#0d0887"
                          ],
                          [
                            0.1111111111111111,
                            "#46039f"
                          ],
                          [
                            0.2222222222222222,
                            "#7201a8"
                          ],
                          [
                            0.3333333333333333,
                            "#9c179e"
                          ],
                          [
                            0.4444444444444444,
                            "#bd3786"
                          ],
                          [
                            0.5555555555555556,
                            "#d8576b"
                          ],
                          [
                            0.6666666666666666,
                            "#ed7953"
                          ],
                          [
                            0.7777777777777778,
                            "#fb9f3a"
                          ],
                          [
                            0.8888888888888888,
                            "#fdca26"
                          ],
                          [
                            1,
                            "#f0f921"
                          ]
                        ],
                        "type": "histogram2d"
                      }
                    ],
                    "histogram2dcontour": [
                      {
                        "colorbar": {
                          "outlinewidth": 0,
                          "ticks": ""
                        },
                        "colorscale": [
                          [
                            0,
                            "#0d0887"
                          ],
                          [
                            0.1111111111111111,
                            "#46039f"
                          ],
                          [
                            0.2222222222222222,
                            "#7201a8"
                          ],
                          [
                            0.3333333333333333,
                            "#9c179e"
                          ],
                          [
                            0.4444444444444444,
                            "#bd3786"
                          ],
                          [
                            0.5555555555555556,
                            "#d8576b"
                          ],
                          [
                            0.6666666666666666,
                            "#ed7953"
                          ],
                          [
                            0.7777777777777778,
                            "#fb9f3a"
                          ],
                          [
                            0.8888888888888888,
                            "#fdca26"
                          ],
                          [
                            1,
                            "#f0f921"
                          ]
                        ],
                        "type": "histogram2dcontour"
                      }
                    ],
                    "mesh3d": [
                      {
                        "colorbar": {
                          "outlinewidth": 0,
                          "ticks": ""
                        },
                        "type": "mesh3d"
                      }
                    ],
                    "parcoords": [
                      {
                        "line": {
                          "colorbar": {
                            "outlinewidth": 0,
                            "ticks": ""
                          }
                        },
                        "type": "parcoords"
                      }
                    ],
                    "pie": [
                      {
                        "automargin": true,
                        "type": "pie"
                      }
                    ],
                    "scatter": [
                      {
                        "fillpattern": {
                          "fillmode": "overlay",
                          "size": 10,
                          "solidity": 0.2
                        },
                        "type": "scatter"
                      }
                    ],
                    "scatter3d": [
                      {
                        "line": {
                          "colorbar": {
                            "outlinewidth": 0,
                            "ticks": ""
                          }
                        },
                        "marker": {
                          "colorbar": {
                            "outlinewidth": 0,
                            "ticks": ""
                          }
                        },
                        "type": "scatter3d"
                      }
                    ],
                    "scattercarpet": [
                      {
                        "marker": {
                          "colorbar": {
                            "outlinewidth": 0,
                            "ticks": ""
                          }
                        },
                        "type": "scattercarpet"
                      }
                    ],
                    "scattergeo": [
                      {
                        "marker": {
                          "colorbar": {
                            "outlinewidth": 0,
                            "ticks": ""
                          }
                        },
                        "type": "scattergeo"
                      }
                    ],
                    "scattergl": [
                      {
                        "marker": {
                          "colorbar": {
                            "outlinewidth": 0,
                            "ticks": ""
                          }
                        },
                        "type": "scattergl"
                      }
                    ],
                    "scattermapbox": [
                      {
                        "marker": {
                          "colorbar": {
                            "outlinewidth": 0,
                            "ticks": ""
                          }
                        },
                        "type": "scattermapbox"
                      }
                    ],
                    "scatterpolar": [
                      {
                        "marker": {
                          "colorbar": {
                            "outlinewidth": 0,
                            "ticks": ""
                          }
                        },
                        "type": "scatterpolar"
                      }
                    ],
                    "scatterpolargl": [
                      {
                        "marker": {
                          "colorbar": {
                            "outlinewidth": 0,
                            "ticks": ""
                          }
                        },
                        "type": "scatterpolargl"
                      }
                    ],
                    "scatterternary": [
                      {
                        "marker": {
                          "colorbar": {
                            "outlinewidth": 0,
                            "ticks": ""
                          }
                        },
                        "type": "scatterternary"
                      }
                    ],
                    "surface": [
                      {
                        "colorbar": {
                          "outlinewidth": 0,
                          "ticks": ""
                        },
                        "colorscale": [
                          [
                            0,
                            "#0d0887"
                          ],
                          [
                            0.1111111111111111,
                            "#46039f"
                          ],
                          [
                            0.2222222222222222,
                            "#7201a8"
                          ],
                          [
                            0.3333333333333333,
                            "#9c179e"
                          ],
                          [
                            0.4444444444444444,
                            "#bd3786"
                          ],
                          [
                            0.5555555555555556,
                            "#d8576b"
                          ],
                          [
                            0.6666666666666666,
                            "#ed7953"
                          ],
                          [
                            0.7777777777777778,
                            "#fb9f3a"
                          ],
                          [
                            0.8888888888888888,
                            "#fdca26"
                          ],
                          [
                            1,
                            "#f0f921"
                          ]
                        ],
                        "type": "surface"
                      }
                    ],
                    "table": [
                      {
                        "cells": {
                          "fill": {
                            "color": "#EBF0F8"
                          },
                          "line": {
                            "color": "white"
                          }
                        },
                        "header": {
                          "fill": {
                            "color": "#C8D4E3"
                          },
                          "line": {
                            "color": "white"
                          }
                        },
                        "type": "table"
                      }
                    ]
                  },
                  "layout": {
                    "annotationdefaults": {
                      "arrowcolor": "#2a3f5f",
                      "arrowhead": 0,
                      "arrowwidth": 1
                    },
                    "autotypenumbers": "strict",
                    "coloraxis": {
                      "colorbar": {
                        "outlinewidth": 0,
                        "ticks": ""
                      }
                    },
                    "colorscale": {
                      "diverging": [
                        [
                          0,
                          "#8e0152"
                        ],
                        [
                          0.1,
                          "#c51b7d"
                        ],
                        [
                          0.2,
                          "#de77ae"
                        ],
                        [
                          0.3,
                          "#f1b6da"
                        ],
                        [
                          0.4,
                          "#fde0ef"
                        ],
                        [
                          0.5,
                          "#f7f7f7"
                        ],
                        [
                          0.6,
                          "#e6f5d0"
                        ],
                        [
                          0.7,
                          "#b8e186"
                        ],
                        [
                          0.8,
                          "#7fbc41"
                        ],
                        [
                          0.9,
                          "#4d9221"
                        ],
                        [
                          1,
                          "#276419"
                        ]
                      ],
                      "sequential": [
                        [
                          0,
                          "#0d0887"
                        ],
                        [
                          0.1111111111111111,
                          "#46039f"
                        ],
                        [
                          0.2222222222222222,
                          "#7201a8"
                        ],
                        [
                          0.3333333333333333,
                          "#9c179e"
                        ],
                        [
                          0.4444444444444444,
                          "#bd3786"
                        ],
                        [
                          0.5555555555555556,
                          "#d8576b"
                        ],
                        [
                          0.6666666666666666,
                          "#ed7953"
                        ],
                        [
                          0.7777777777777778,
                          "#fb9f3a"
                        ],
                        [
                          0.8888888888888888,
                          "#fdca26"
                        ],
                        [
                          1,
                          "#f0f921"
                        ]
                      ],
                      "sequentialminus": [
                        [
                          0,
                          "#0d0887"
                        ],
                        [
                          0.1111111111111111,
                          "#46039f"
                        ],
                        [
                          0.2222222222222222,
                          "#7201a8"
                        ],
                        [
                          0.3333333333333333,
                          "#9c179e"
                        ],
                        [
                          0.4444444444444444,
                          "#bd3786"
                        ],
                        [
                          0.5555555555555556,
                          "#d8576b"
                        ],
                        [
                          0.6666666666666666,
                          "#ed7953"
                        ],
                        [
                          0.7777777777777778,
                          "#fb9f3a"
                        ],
                        [
                          0.8888888888888888,
                          "#fdca26"
                        ],
                        [
                          1,
                          "#f0f921"
                        ]
                      ]
                    },
                    "colorway": [
                      "#636efa",
                      "#EF553B",
                      "#00cc96",
                      "#ab63fa",
                      "#FFA15A",
                      "#19d3f3",
                      "#FF6692",
                      "#B6E880",
                      "#FF97FF",
                      "#FECB52"
                    ],
                    "font": {
                      "color": "#2a3f5f"
                    },
                    "geo": {
                      "bgcolor": "white",
                      "lakecolor": "white",
                      "landcolor": "#E5ECF6",
                      "showlakes": true,
                      "showland": true,
                      "subunitcolor": "white"
                    },
                    "hoverlabel": {
                      "align": "left"
                    },
                    "hovermode": "closest",
                    "mapbox": {
                      "style": "light"
                    },
                    "paper_bgcolor": "white",
                    "plot_bgcolor": "#E5ECF6",
                    "polar": {
                      "angularaxis": {
                        "gridcolor": "white",
                        "linecolor": "white",
                        "ticks": ""
                      },
                      "bgcolor": "#E5ECF6",
                      "radialaxis": {
                        "gridcolor": "white",
                        "linecolor": "white",
                        "ticks": ""
                      }
                    },
                    "scene": {
                      "xaxis": {
                        "backgroundcolor": "#E5ECF6",
                        "gridcolor": "white",
                        "gridwidth": 2,
                        "linecolor": "white",
                        "showbackground": true,
                        "ticks": "",
                        "zerolinecolor": "white"
                      },
                      "yaxis": {
                        "backgroundcolor": "#E5ECF6",
                        "gridcolor": "white",
                        "gridwidth": 2,
                        "linecolor": "white",
                        "showbackground": true,
                        "ticks": "",
                        "zerolinecolor": "white"
                      },
                      "zaxis": {
                        "backgroundcolor": "#E5ECF6",
                        "gridcolor": "white",
                        "gridwidth": 2,
                        "linecolor": "white",
                        "showbackground": true,
                        "ticks": "",
                        "zerolinecolor": "white"
                      }
                    },
                    "shapedefaults": {
                      "line": {
                        "color": "#2a3f5f"
                      }
                    },
                    "ternary": {
                      "aaxis": {
                        "gridcolor": "white",
                        "linecolor": "white",
                        "ticks": ""
                      },
                      "baxis": {
                        "gridcolor": "white",
                        "linecolor": "white",
                        "ticks": ""
                      },
                      "bgcolor": "#E5ECF6",
                      "caxis": {
                        "gridcolor": "white",
                        "linecolor": "white",
                        "ticks": ""
                      }
                    },
                    "title": {
                      "x": 0.05
                    },
                    "xaxis": {
                      "automargin": true,
                      "gridcolor": "white",
                      "linecolor": "white",
                      "ticks": "",
                      "title": {
                        "standoff": 15
                      },
                      "zerolinecolor": "white",
                      "zerolinewidth": 2
                    },
                    "yaxis": {
                      "automargin": true,
                      "gridcolor": "white",
                      "linecolor": "white",
                      "ticks": "",
                      "title": {
                        "standoff": 15
                      },
                      "zerolinecolor": "white",
                      "zerolinewidth": 2
                    }
                  }
                },
                "title": {
                  "font": {
                    "size": 30
                  },
                  "text": "Word Values",
                  "x": 0.5
                },
                "xaxis": {
                  "anchor": "y",
                  "domain": [
                    0,
                    1
                  ],
                  "showgrid": false,
                  "title": {
                    "text": "Words"
                  }
                },
                "yaxis": {
                  "anchor": "x",
                  "domain": [
                    0,
                    1
                  ],
                  "showgrid": false,
                  "title": {
                    "text": "Value"
                  }
                }
              }
            },
            "text/html": [
              "<div>                            <div id=\"50bfe10c-8678-40af-b119-9afd5a51885c\" class=\"plotly-graph-div\" style=\"height:525px; width:100%;\"></div>            <script type=\"text/javascript\">                require([\"plotly\"], function(Plotly) {                    window.PLOTLYENV=window.PLOTLYENV || {};                                    if (document.getElementById(\"50bfe10c-8678-40af-b119-9afd5a51885c\")) {                    Plotly.newPlot(                        \"50bfe10c-8678-40af-b119-9afd5a51885c\",                        [{\"alignmentgroup\":\"True\",\"customdata\":[[\"I\",5082798],[\"to\",3204726],[\"and\",2885966],[\"the\",1990751],[\"a\",1948452],[\"my\",1739717],[\"of\",1447777],[\"me\",1229978],[\"that\",1116560],[\"it\",1087730],[\"in\",1023726],[\"Im\",929206],[\"for\",864936],[\"have\",832138],[\"is\",825309],[\"but\",792227],[\"with\",766720],[\"was\",733992],[\"just\",709621],[\"this\",703672],[\"like\",618865],[\"so\",556282],[\"dont\",550917],[\"on\",540203],[\"be\",535806],[\"feel\",527478],[\"not\",495285],[\"or\",465886],[\"do\",462651],[\"about\",461561],[\"i\",453210],[\"you\",437036],[\"at\",408584],[\"know\",402109],[\"all\",384473],[\"out\",380533],[\"get\",369110],[\"Ive\",360977],[\"been\",360274],[\"because\",356298],[\"up\",355768],[\"as\",342929],[\"want\",336557],[\"if\",331094],[\"am\",323652],[\"had\",314492],[\"myself\",312522],[\"what\",311327],[\"time\",309373],[\"her\",302036],[\"really\",297658],[\"when\",295420],[\"life\",293961],[\"its\",283826],[\"people\",269004],[\"can\",267811],[\"even\",261823],[\"how\",261395],[\"from\",261275],[\"cant\",260369],[\"she\",258692],[\"are\",257643],[\"now\",248287],[\"they\",242684],[\"no\",232625],[\"he\",232149],[\"would\",226124],[\"one\",221306],[\"think\",210294],[\"has\",208261],[\"an\",207809],[\"them\",206721],[\"going\",206104],[\"go\",205916],[\"more\",199825]],\"hovertemplate\":\"Word:'%{x}' Value: %{y}\",\"hovertext\":[\"I\",\"to\",\"and\",\"the\",\"a\",\"my\",\"of\",\"me\",\"that\",\"it\",\"in\",\"Im\",\"for\",\"have\",\"is\",\"but\",\"with\",\"was\",\"just\",\"this\",\"like\",\"so\",\"dont\",\"on\",\"be\",\"feel\",\"not\",\"or\",\"do\",\"about\",\"i\",\"you\",\"at\",\"know\",\"all\",\"out\",\"get\",\"Ive\",\"been\",\"because\",\"up\",\"as\",\"want\",\"if\",\"am\",\"had\",\"myself\",\"what\",\"time\",\"her\",\"really\",\"when\",\"life\",\"its\",\"people\",\"can\",\"even\",\"how\",\"from\",\"cant\",\"she\",\"are\",\"now\",\"they\",\"no\",\"he\",\"would\",\"one\",\"think\",\"has\",\"an\",\"them\",\"going\",\"go\",\"more\"],\"legendgroup\":\"\",\"marker\":{\"color\":[5082798,3204726,2885966,1990751,1948452,1739717,1447777,1229978,1116560,1087730,1023726,929206,864936,832138,825309,792227,766720,733992,709621,703672,618865,556282,550917,540203,535806,527478,495285,465886,462651,461561,453210,437036,408584,402109,384473,380533,369110,360977,360274,356298,355768,342929,336557,331094,323652,314492,312522,311327,309373,302036,297658,295420,293961,283826,269004,267811,261823,261395,261275,260369,258692,257643,248287,242684,232625,232149,226124,221306,210294,208261,207809,206721,206104,205916,199825],\"coloraxis\":\"coloraxis\",\"pattern\":{\"shape\":\"\"}},\"name\":\"\",\"offsetgroup\":\"\",\"orientation\":\"v\",\"showlegend\":false,\"textposition\":\"auto\",\"x\":[\"I\",\"to\",\"and\",\"the\",\"a\",\"my\",\"of\",\"me\",\"that\",\"it\",\"in\",\"Im\",\"for\",\"have\",\"is\",\"but\",\"with\",\"was\",\"just\",\"this\",\"like\",\"so\",\"dont\",\"on\",\"be\",\"feel\",\"not\",\"or\",\"do\",\"about\",\"i\",\"you\",\"at\",\"know\",\"all\",\"out\",\"get\",\"Ive\",\"been\",\"because\",\"up\",\"as\",\"want\",\"if\",\"am\",\"had\",\"myself\",\"what\",\"time\",\"her\",\"really\",\"when\",\"life\",\"its\",\"people\",\"can\",\"even\",\"how\",\"from\",\"cant\",\"she\",\"are\",\"now\",\"they\",\"no\",\"he\",\"would\",\"one\",\"think\",\"has\",\"an\",\"them\",\"going\",\"go\",\"more\"],\"xaxis\":\"x\",\"y\":[5082798,3204726,2885966,1990751,1948452,1739717,1447777,1229978,1116560,1087730,1023726,929206,864936,832138,825309,792227,766720,733992,709621,703672,618865,556282,550917,540203,535806,527478,495285,465886,462651,461561,453210,437036,408584,402109,384473,380533,369110,360977,360274,356298,355768,342929,336557,331094,323652,314492,312522,311327,309373,302036,297658,295420,293961,283826,269004,267811,261823,261395,261275,260369,258692,257643,248287,242684,232625,232149,226124,221306,210294,208261,207809,206721,206104,205916,199825],\"yaxis\":\"y\",\"type\":\"bar\"}],                        {\"template\":{\"data\":{\"histogram2dcontour\":[{\"type\":\"histogram2dcontour\",\"colorbar\":{\"outlinewidth\":0,\"ticks\":\"\"},\"colorscale\":[[0.0,\"#0d0887\"],[0.1111111111111111,\"#46039f\"],[0.2222222222222222,\"#7201a8\"],[0.3333333333333333,\"#9c179e\"],[0.4444444444444444,\"#bd3786\"],[0.5555555555555556,\"#d8576b\"],[0.6666666666666666,\"#ed7953\"],[0.7777777777777778,\"#fb9f3a\"],[0.8888888888888888,\"#fdca26\"],[1.0,\"#f0f921\"]]}],\"choropleth\":[{\"type\":\"choropleth\",\"colorbar\":{\"outlinewidth\":0,\"ticks\":\"\"}}],\"histogram2d\":[{\"type\":\"histogram2d\",\"colorbar\":{\"outlinewidth\":0,\"ticks\":\"\"},\"colorscale\":[[0.0,\"#0d0887\"],[0.1111111111111111,\"#46039f\"],[0.2222222222222222,\"#7201a8\"],[0.3333333333333333,\"#9c179e\"],[0.4444444444444444,\"#bd3786\"],[0.5555555555555556,\"#d8576b\"],[0.6666666666666666,\"#ed7953\"],[0.7777777777777778,\"#fb9f3a\"],[0.8888888888888888,\"#fdca26\"],[1.0,\"#f0f921\"]]}],\"heatmap\":[{\"type\":\"heatmap\",\"colorbar\":{\"outlinewidth\":0,\"ticks\":\"\"},\"colorscale\":[[0.0,\"#0d0887\"],[0.1111111111111111,\"#46039f\"],[0.2222222222222222,\"#7201a8\"],[0.3333333333333333,\"#9c179e\"],[0.4444444444444444,\"#bd3786\"],[0.5555555555555556,\"#d8576b\"],[0.6666666666666666,\"#ed7953\"],[0.7777777777777778,\"#fb9f3a\"],[0.8888888888888888,\"#fdca26\"],[1.0,\"#f0f921\"]]}],\"heatmapgl\":[{\"type\":\"heatmapgl\",\"colorbar\":{\"outlinewidth\":0,\"ticks\":\"\"},\"colorscale\":[[0.0,\"#0d0887\"],[0.1111111111111111,\"#46039f\"],[0.2222222222222222,\"#7201a8\"],[0.3333333333333333,\"#9c179e\"],[0.4444444444444444,\"#bd3786\"],[0.5555555555555556,\"#d8576b\"],[0.6666666666666666,\"#ed7953\"],[0.7777777777777778,\"#fb9f3a\"],[0.8888888888888888,\"#fdca26\"],[1.0,\"#f0f921\"]]}],\"contourcarpet\":[{\"type\":\"contourcarpet\",\"colorbar\":{\"outlinewidth\":0,\"ticks\":\"\"}}],\"contour\":[{\"type\":\"contour\",\"colorbar\":{\"outlinewidth\":0,\"ticks\":\"\"},\"colorscale\":[[0.0,\"#0d0887\"],[0.1111111111111111,\"#46039f\"],[0.2222222222222222,\"#7201a8\"],[0.3333333333333333,\"#9c179e\"],[0.4444444444444444,\"#bd3786\"],[0.5555555555555556,\"#d8576b\"],[0.6666666666666666,\"#ed7953\"],[0.7777777777777778,\"#fb9f3a\"],[0.8888888888888888,\"#fdca26\"],[1.0,\"#f0f921\"]]}],\"surface\":[{\"type\":\"surface\",\"colorbar\":{\"outlinewidth\":0,\"ticks\":\"\"},\"colorscale\":[[0.0,\"#0d0887\"],[0.1111111111111111,\"#46039f\"],[0.2222222222222222,\"#7201a8\"],[0.3333333333333333,\"#9c179e\"],[0.4444444444444444,\"#bd3786\"],[0.5555555555555556,\"#d8576b\"],[0.6666666666666666,\"#ed7953\"],[0.7777777777777778,\"#fb9f3a\"],[0.8888888888888888,\"#fdca26\"],[1.0,\"#f0f921\"]]}],\"mesh3d\":[{\"type\":\"mesh3d\",\"colorbar\":{\"outlinewidth\":0,\"ticks\":\"\"}}],\"scatter\":[{\"fillpattern\":{\"fillmode\":\"overlay\",\"size\":10,\"solidity\":0.2},\"type\":\"scatter\"}],\"parcoords\":[{\"type\":\"parcoords\",\"line\":{\"colorbar\":{\"outlinewidth\":0,\"ticks\":\"\"}}}],\"scatterpolargl\":[{\"type\":\"scatterpolargl\",\"marker\":{\"colorbar\":{\"outlinewidth\":0,\"ticks\":\"\"}}}],\"bar\":[{\"error_x\":{\"color\":\"#2a3f5f\"},\"error_y\":{\"color\":\"#2a3f5f\"},\"marker\":{\"line\":{\"color\":\"#E5ECF6\",\"width\":0.5},\"pattern\":{\"fillmode\":\"overlay\",\"size\":10,\"solidity\":0.2}},\"type\":\"bar\"}],\"scattergeo\":[{\"type\":\"scattergeo\",\"marker\":{\"colorbar\":{\"outlinewidth\":0,\"ticks\":\"\"}}}],\"scatterpolar\":[{\"type\":\"scatterpolar\",\"marker\":{\"colorbar\":{\"outlinewidth\":0,\"ticks\":\"\"}}}],\"histogram\":[{\"marker\":{\"pattern\":{\"fillmode\":\"overlay\",\"size\":10,\"solidity\":0.2}},\"type\":\"histogram\"}],\"scattergl\":[{\"type\":\"scattergl\",\"marker\":{\"colorbar\":{\"outlinewidth\":0,\"ticks\":\"\"}}}],\"scatter3d\":[{\"type\":\"scatter3d\",\"line\":{\"colorbar\":{\"outlinewidth\":0,\"ticks\":\"\"}},\"marker\":{\"colorbar\":{\"outlinewidth\":0,\"ticks\":\"\"}}}],\"scattermapbox\":[{\"type\":\"scattermapbox\",\"marker\":{\"colorbar\":{\"outlinewidth\":0,\"ticks\":\"\"}}}],\"scatterternary\":[{\"type\":\"scatterternary\",\"marker\":{\"colorbar\":{\"outlinewidth\":0,\"ticks\":\"\"}}}],\"scattercarpet\":[{\"type\":\"scattercarpet\",\"marker\":{\"colorbar\":{\"outlinewidth\":0,\"ticks\":\"\"}}}],\"carpet\":[{\"aaxis\":{\"endlinecolor\":\"#2a3f5f\",\"gridcolor\":\"white\",\"linecolor\":\"white\",\"minorgridcolor\":\"white\",\"startlinecolor\":\"#2a3f5f\"},\"baxis\":{\"endlinecolor\":\"#2a3f5f\",\"gridcolor\":\"white\",\"linecolor\":\"white\",\"minorgridcolor\":\"white\",\"startlinecolor\":\"#2a3f5f\"},\"type\":\"carpet\"}],\"table\":[{\"cells\":{\"fill\":{\"color\":\"#EBF0F8\"},\"line\":{\"color\":\"white\"}},\"header\":{\"fill\":{\"color\":\"#C8D4E3\"},\"line\":{\"color\":\"white\"}},\"type\":\"table\"}],\"barpolar\":[{\"marker\":{\"line\":{\"color\":\"#E5ECF6\",\"width\":0.5},\"pattern\":{\"fillmode\":\"overlay\",\"size\":10,\"solidity\":0.2}},\"type\":\"barpolar\"}],\"pie\":[{\"automargin\":true,\"type\":\"pie\"}]},\"layout\":{\"autotypenumbers\":\"strict\",\"colorway\":[\"#636efa\",\"#EF553B\",\"#00cc96\",\"#ab63fa\",\"#FFA15A\",\"#19d3f3\",\"#FF6692\",\"#B6E880\",\"#FF97FF\",\"#FECB52\"],\"font\":{\"color\":\"#2a3f5f\"},\"hovermode\":\"closest\",\"hoverlabel\":{\"align\":\"left\"},\"paper_bgcolor\":\"white\",\"plot_bgcolor\":\"#E5ECF6\",\"polar\":{\"bgcolor\":\"#E5ECF6\",\"angularaxis\":{\"gridcolor\":\"white\",\"linecolor\":\"white\",\"ticks\":\"\"},\"radialaxis\":{\"gridcolor\":\"white\",\"linecolor\":\"white\",\"ticks\":\"\"}},\"ternary\":{\"bgcolor\":\"#E5ECF6\",\"aaxis\":{\"gridcolor\":\"white\",\"linecolor\":\"white\",\"ticks\":\"\"},\"baxis\":{\"gridcolor\":\"white\",\"linecolor\":\"white\",\"ticks\":\"\"},\"caxis\":{\"gridcolor\":\"white\",\"linecolor\":\"white\",\"ticks\":\"\"}},\"coloraxis\":{\"colorbar\":{\"outlinewidth\":0,\"ticks\":\"\"}},\"colorscale\":{\"sequential\":[[0.0,\"#0d0887\"],[0.1111111111111111,\"#46039f\"],[0.2222222222222222,\"#7201a8\"],[0.3333333333333333,\"#9c179e\"],[0.4444444444444444,\"#bd3786\"],[0.5555555555555556,\"#d8576b\"],[0.6666666666666666,\"#ed7953\"],[0.7777777777777778,\"#fb9f3a\"],[0.8888888888888888,\"#fdca26\"],[1.0,\"#f0f921\"]],\"sequentialminus\":[[0.0,\"#0d0887\"],[0.1111111111111111,\"#46039f\"],[0.2222222222222222,\"#7201a8\"],[0.3333333333333333,\"#9c179e\"],[0.4444444444444444,\"#bd3786\"],[0.5555555555555556,\"#d8576b\"],[0.6666666666666666,\"#ed7953\"],[0.7777777777777778,\"#fb9f3a\"],[0.8888888888888888,\"#fdca26\"],[1.0,\"#f0f921\"]],\"diverging\":[[0,\"#8e0152\"],[0.1,\"#c51b7d\"],[0.2,\"#de77ae\"],[0.3,\"#f1b6da\"],[0.4,\"#fde0ef\"],[0.5,\"#f7f7f7\"],[0.6,\"#e6f5d0\"],[0.7,\"#b8e186\"],[0.8,\"#7fbc41\"],[0.9,\"#4d9221\"],[1,\"#276419\"]]},\"xaxis\":{\"gridcolor\":\"white\",\"linecolor\":\"white\",\"ticks\":\"\",\"title\":{\"standoff\":15},\"zerolinecolor\":\"white\",\"automargin\":true,\"zerolinewidth\":2},\"yaxis\":{\"gridcolor\":\"white\",\"linecolor\":\"white\",\"ticks\":\"\",\"title\":{\"standoff\":15},\"zerolinecolor\":\"white\",\"automargin\":true,\"zerolinewidth\":2},\"scene\":{\"xaxis\":{\"backgroundcolor\":\"#E5ECF6\",\"gridcolor\":\"white\",\"linecolor\":\"white\",\"showbackground\":true,\"ticks\":\"\",\"zerolinecolor\":\"white\",\"gridwidth\":2},\"yaxis\":{\"backgroundcolor\":\"#E5ECF6\",\"gridcolor\":\"white\",\"linecolor\":\"white\",\"showbackground\":true,\"ticks\":\"\",\"zerolinecolor\":\"white\",\"gridwidth\":2},\"zaxis\":{\"backgroundcolor\":\"#E5ECF6\",\"gridcolor\":\"white\",\"linecolor\":\"white\",\"showbackground\":true,\"ticks\":\"\",\"zerolinecolor\":\"white\",\"gridwidth\":2}},\"shapedefaults\":{\"line\":{\"color\":\"#2a3f5f\"}},\"annotationdefaults\":{\"arrowcolor\":\"#2a3f5f\",\"arrowhead\":0,\"arrowwidth\":1},\"geo\":{\"bgcolor\":\"white\",\"landcolor\":\"#E5ECF6\",\"subunitcolor\":\"white\",\"showland\":true,\"showlakes\":true,\"lakecolor\":\"white\"},\"title\":{\"x\":0.05},\"mapbox\":{\"style\":\"light\"}}},\"xaxis\":{\"anchor\":\"y\",\"domain\":[0.0,1.0],\"title\":{\"text\":\"Words\"},\"showgrid\":false},\"yaxis\":{\"anchor\":\"x\",\"domain\":[0.0,1.0],\"title\":{\"text\":\"Value\"},\"showgrid\":false},\"coloraxis\":{\"colorbar\":{\"title\":{\"text\":\"color\"}},\"colorscale\":[[0.0,\"#0d0887\"],[0.1111111111111111,\"#46039f\"],[0.2222222222222222,\"#7201a8\"],[0.3333333333333333,\"#9c179e\"],[0.4444444444444444,\"#bd3786\"],[0.5555555555555556,\"#d8576b\"],[0.6666666666666666,\"#ed7953\"],[0.7777777777777778,\"#fb9f3a\"],[0.8888888888888888,\"#fdca26\"],[1.0,\"#f0f921\"]]},\"legend\":{\"tracegroupgap\":0},\"margin\":{\"t\":60},\"barmode\":\"relative\",\"title\":{\"font\":{\"size\":30},\"text\":\"Word Values\",\"x\":0.5},\"plot_bgcolor\":\"white\"},                        {\"responsive\": true}                    ).then(function(){\n",
              "                            \n",
              "var gd = document.getElementById('50bfe10c-8678-40af-b119-9afd5a51885c');\n",
              "var x = new MutationObserver(function (mutations, observer) {{\n",
              "        var display = window.getComputedStyle(gd).display;\n",
              "        if (!display || display === 'none') {{\n",
              "            console.log([gd, 'removed!']);\n",
              "            Plotly.purge(gd);\n",
              "            observer.disconnect();\n",
              "        }}\n",
              "}});\n",
              "\n",
              "// Listen for the removal of the full notebook cells\n",
              "var notebookContainer = gd.closest('#notebook-container');\n",
              "if (notebookContainer) {{\n",
              "    x.observe(notebookContainer, {childList: true});\n",
              "}}\n",
              "\n",
              "// Listen for the clearing of the current output cell\n",
              "var outputEl = gd.closest('.output');\n",
              "if (outputEl) {{\n",
              "    x.observe(outputEl, {childList: true});\n",
              "}}\n",
              "\n",
              "                        })                };                });            </script>        </div>"
            ]
          },
          "metadata": {},
          "output_type": "display_data"
        }
      ],
      "source": [
        "fig2 = px.bar(x=list1,y=list2,color=list2,hover_name=list1,hover_data={'Word':list1,\"Count\":list2})\n",
        "fig2.update_traces(hovertemplate=\"Word:'%{x}' Value: %{y}\")\n",
        "fig2.update_layout(title={\"text\":\"Word Values\",\"x\":0.5,\"font\":{\"size\":30}},xaxis={\"title\":\"Words\",\"showgrid\":False},yaxis={\"title\":\"Value\",\"showgrid\":False},plot_bgcolor=\"white\")\n",
        "fig2.show()"
      ]
    },
    {
      "cell_type": "code",
      "execution_count": null,
      "metadata": {
        "colab": {
          "base_uri": "https://localhost:8080/",
          "height": 286
        },
        "id": "g1fPjG4wtMrq",
        "outputId": "bf02a0f6-0d6c-4ae4-f614-83462b7ae2fa"
      },
      "outputs": [
        {
          "data": {
            "text/plain": [
              "<matplotlib.image.AxesImage at 0x1a503285540>"
            ]
          },
          "execution_count": 31,
          "metadata": {},
          "output_type": "execute_result"
        },
        {
          "data": {
            "image/png": "[encoded data removed]",
            "text/plain": [
              "<Figure size 432x288 with 1 Axes>"
            ]
          },
          "metadata": {
            "needs_background": "light"
          },
          "output_type": "display_data"
        }
      ],
      "source": [
        "from PIL import Image\n",
        "\n",
        "shopping_cart = np.array(Image.open(\"shopping_cart.png\"))\n",
        "plt.imshow(shopping_cart)"
      ]
    },
    {
      "cell_type": "code",
      "execution_count": null,
      "metadata": {
        "id": "xEtrhFHitggy",
        "outputId": "bec1389c-bc21-4883-943b-f5e6df2da88f"
      },
      "outputs": [
        {
          "name": "stdout",
          "output_type": "stream",
          "text": [
            "Collecting nltk\n",
            "  Downloading nltk-3.7-py3-none-any.whl (1.5 MB)\n",
            "     ---------------------------------------- 1.5/1.5 MB 1.5 MB/s eta 0:00:00\n",
            "Requirement already satisfied: click in c:\\users\\kazi tanvir akter\\appdata\\local\\programs\\python\\python310\\lib\\site-packages (from nltk) (8.1.3)\n",
            "Requirement already satisfied: joblib in c:\\users\\kazi tanvir akter\\appdata\\local\\programs\\python\\python310\\lib\\site-packages (from nltk) (1.1.0)\n",
            "Requirement already satisfied: tqdm in c:\\users\\kazi tanvir akter\\appdata\\local\\programs\\python\\python310\\lib\\site-packages (from nltk) (4.64.0)\n",
            "Collecting regex>=2021.8.3\n",
            "  Downloading regex-2022.6.2-cp310-cp310-win_amd64.whl (262 kB)\n",
            "     -------------------------------------- 262.0/262.0 KB 3.2 MB/s eta 0:00:00\n",
            "Requirement already satisfied: colorama in c:\\users\\kazi tanvir akter\\appdata\\local\\programs\\python\\python310\\lib\\site-packages (from click->nltk) (0.4.5)\n",
            "Installing collected packages: regex, nltk\n",
            "Successfully installed nltk-3.7 regex-2022.6.2\n"
          ]
        },
        {
          "name": "stderr",
          "output_type": "stream",
          "text": [
            "WARNING: You are using pip version 22.0.4; however, version 22.1.2 is available.\n",
            "You should consider upgrading via the 'C:\\Users\\Kazi Tanvir Akter\\AppData\\Local\\Programs\\Python\\Python310\\python.exe -m pip install --upgrade pip' command.\n"
          ]
        }
      ],
      "source": [
        "# from wordcloud import WordCloud\n",
        "from nltk.corpus import stopwords"
      ]
    },
    {
      "cell_type": "code",
      "execution_count": null,
      "metadata": {
        "colab": {
          "base_uri": "https://localhost:8080/",
          "height": 596
        },
        "id": "d1Bew7tztrBa",
        "outputId": "e526d55d-3bb1-4f20-d647-58c1213af8cf"
      },
      "outputs": [
        {
          "ename": "NameError",
          "evalue": "name 'WordCloud' is not defined",
          "output_type": "error",
          "traceback": [
            "\u001b[1;31m---------------------------------------------------------------------------\u001b[0m",
            "\u001b[1;31mNameError\u001b[0m                                 Traceback (most recent call last)",
            "\u001b[1;32mc:\\MentalHealthDetection\\Mental_Health_Detection.ipynb Cell 29'\u001b[0m in \u001b[0;36m<cell line: 6>\u001b[1;34m()\u001b[0m\n\u001b[0;32m      <a href='vscode-notebook-cell:/c%3A/MentalHealthDetection/Mental_Health_Detection.ipynb#ch0000028?line=1'>2</a>\u001b[0m     \u001b[39mreturn\u001b[39;00m(\u001b[39m\"\u001b[39m\u001b[39mhsl(0,0\u001b[39m\u001b[39m%%\u001b[39;00m\u001b[39m, \u001b[39m\u001b[39m%d\u001b[39;00m\u001b[39m%%\u001b[39;00m\u001b[39m)\u001b[39m\u001b[39m\"\u001b[39m \u001b[39m%\u001b[39m np\u001b[39m.\u001b[39mrandom\u001b[39m.\u001b[39mrandint(\u001b[39m50\u001b[39m,\u001b[39m55\u001b[39m))\n\u001b[0;32m      <a href='vscode-notebook-cell:/c%3A/MentalHealthDetection/Mental_Health_Detection.ipynb#ch0000028?line=3'>4</a>\u001b[0m stopwordCloud \u001b[39m=\u001b[39m \u001b[39mset\u001b[39m(stopwords\u001b[39m.\u001b[39mwords(\u001b[39m\"\u001b[39m\u001b[39menglish\u001b[39m\u001b[39m\"\u001b[39m))\n\u001b[1;32m----> <a href='vscode-notebook-cell:/c%3A/MentalHealthDetection/Mental_Health_Detection.ipynb#ch0000028?line=5'>6</a>\u001b[0m wordcloud \u001b[39m=\u001b[39m WordCloud(stopwords\u001b[39m=\u001b[39mstopwordCloud,max_words\u001b[39m=\u001b[39m\u001b[39m1000\u001b[39m,background_color\u001b[39m=\u001b[39m\u001b[39m\"\u001b[39m\u001b[39mwhite\u001b[39m\u001b[39m\"\u001b[39m,min_font_size\u001b[39m=\u001b[39m\u001b[39m3\u001b[39m)\u001b[39m.\u001b[39mgenerate_from_frequencies(countedWordDict)\n\u001b[0;32m      <a href='vscode-notebook-cell:/c%3A/MentalHealthDetection/Mental_Health_Detection.ipynb#ch0000028?line=6'>7</a>\u001b[0m wordcloud\u001b[39m.\u001b[39mrecolor(color_func \u001b[39m=\u001b[39m grey_color_func)\n\u001b[0;32m      <a href='vscode-notebook-cell:/c%3A/MentalHealthDetection/Mental_Health_Detection.ipynb#ch0000028?line=7'>8</a>\u001b[0m plt\u001b[39m.\u001b[39mfigure(figsize\u001b[39m=\u001b[39m[\u001b[39m13\u001b[39m,\u001b[39m10\u001b[39m])\n",
            "\u001b[1;31mNameError\u001b[0m: name 'WordCloud' is not defined"
          ]
        }
      ],
      "source": [
        "def grey_color_func(word, font_size, position,orientation,random_state=None, **kwargs):\n",
        "    return(\"hsl(0,0%%, %d%%)\" % np.random.randint(50,55))\n",
        "\n",
        "stopwordCloud = set(stopwords.words(\"english\"))\n",
        "\n",
        "wordcloud = WordCloud(stopwords=stopwordCloud,max_words=1000,background_color=\"white\",min_font_size=3).generate_from_frequencies(countedWordDict)\n",
        "wordcloud.recolor(color_func = grey_color_func)\n",
        "plt.figure(figsize=[13,10])\n",
        "plt.axis(\"off\")\n",
        "plt.title(\"Word Cloud\",fontsize=20)\n",
        "plt.imshow(wordcloud)\n",
        "plt.show()"
      ]
    },
    {
      "cell_type": "code",
      "execution_count": null,
      "metadata": {
        "id": "1F8E1lwNuH_K"
      },
      "outputs": [],
      "source": [
        "from nltk.corpus import stopwords\n",
        "from nltk.stem.porter import PorterStemmer\n",
        "from nltk import word_tokenize\n",
        "import time\n",
        "\n",
        "ps = PorterStemmer()\n",
        "stopwordSet = set(stopwords.words('english'))\n",
        "\n",
        "t = time.time()\n",
        "\n",
        "def leadMyWord(Content):\n",
        "    Content = re.sub('[^a-zA-ZğĞüÜşŞıİöÖçÇ]',\" \",Content)\n",
        "    Content = Content.lower()\n",
        "    Content = word_tokenize(Content,language='english')\n",
        "    Content = [word for word in Content if not word in stopwordSet]\n",
        "    Content = \" \".join(Content)\n",
        "    return Content   \n",
        "\n",
        "textList = data.Content.apply(leadMyWord)\n",
        "textList = list(textList)"
      ]
    },
    {
      "cell_type": "code",
      "execution_count": null,
      "metadata": {
        "colab": {
          "base_uri": "https://localhost:8080/"
        },
        "id": "L9zgSmFEv61R",
        "outputId": "9edb5f70-f924-4d08-ce10-ec14f74a8363"
      },
      "outputs": [
        {
          "name": "stdout",
          "output_type": "stream",
          "text": [
            "Before\n",
            "How long can a panic attack last?! I've been withdrawing from medicines lately (effexor, zyprexa and cymbalta) not all at the same time mind you, but they have been close together in withdraw. \n",
            "Thursday I had a major panic attack, so bad that I needed to take extra of my kolonopin and had to skip work Friday. It only lasted about 30mins, but I was shaky and felt sick the rest of the night. Now it's saturday, not quite two full days after the panic attack started and I still feel as I like to describe 'like a chihuahua', or like I had too much caffeine! I haven't had any except for a small amount of chocolate yesterday...it feels like I've been on the edge of a panic attack since my initial one. \n",
            "I'm not sure what to do!\n",
            "After\n",
            "long panic attack last withdrawing medicines lately effexor zyprexa cymbalta time mind close together withdraw thursday major panic attack bad needed take extra kolonopin skip work friday lasted mins shaky felt sick rest night saturday quite two full days panic attack started still feel like describe like chihuahua like much caffeine except small amount chocolate yesterday feels like edge panic attack since initial one sure\n",
            "Time Passed\n",
            "349.31639194488525\n"
          ]
        }
      ],
      "source": [
        "print(\"Before\")\n",
        "print(data[\"Content\"][2])\n",
        "print(\"After\")\n",
        "print(textList[2])\n",
        "print(\"Time Passed\")\n",
        "print(time.time()-t)"
      ]
    },
    {
      "cell_type": "code",
      "execution_count": null,
      "metadata": {
        "colab": {
          "base_uri": "https://localhost:8080/",
          "height": 70
        },
        "id": "a0AB8HTXxp4x",
        "outputId": "a006447d-5eaf-4312-a683-0f942923707a"
      },
      "outputs": [
        {
          "data": {
            "text/plain": [
              "'medication helped ive struggling debilitating anxiety past months since panic attack set swear feel like giving weeks better weeks let waves anxiety restlessness hit periodically cry really need something help im completely miserable depressed future anyone experience different anxiety medications particularly ssris dr talking prescribing im scared become dependant medication bad side effects advice would good'"
            ]
          },
          "execution_count": 42,
          "metadata": {},
          "output_type": "execute_result"
        }
      ],
      "source": [
        "textList[1205]"
      ]
    },
    {
      "cell_type": "code",
      "execution_count": null,
      "metadata": {
        "colab": {
          "base_uri": "https://localhost:8080/"
        },
        "id": "hwyjtszh0j-Q",
        "outputId": "74e6a669-c72b-400f-f659-a79da4a800a3"
      },
      "outputs": [
        {
          "name": "stdout",
          "output_type": "stream",
          "text": [
            "LabelEncode\n",
            "[0 0 0 ... 6 6 6]\n",
            "To_Categorical\n",
            "[[1. 0. 0. ... 0. 0. 0.]\n",
            " [1. 0. 0. ... 0. 0. 0.]\n",
            " [1. 0. 0. ... 0. 0. 0.]\n",
            " ...\n",
            " [0. 0. 0. ... 0. 0. 1.]\n",
            " [0. 0. 0. ... 0. 0. 1.]\n",
            " [0. 0. 0. ... 0. 0. 1.]]\n"
          ]
        }
      ],
      "source": [
        "#preparing y\n",
        "\n",
        "from sklearn.preprocessing import LabelEncoder\n",
        "from tensorflow.keras.utils import to_categorical\n",
        "\n",
        "le = LabelEncoder()\n",
        "labelEncode = le.fit_transform(data[\"Subreddit\"])\n",
        "print(\"LabelEncode\")\n",
        "print(labelEncode)\n",
        "categorical_y = to_categorical(labelEncode)\n",
        "print(\"To_Categorical\")\n",
        "print(categorical_y)"
      ]
    },
    {
      "cell_type": "code",
      "execution_count": null,
      "metadata": {
        "colab": {
          "base_uri": "https://localhost:8080/"
        },
        "id": "JeQA0zNoADb5",
        "outputId": "de732613-c96f-4f28-cb0d-ffcfd83a847f"
      },
      "outputs": [
        {
          "name": "stdout",
          "output_type": "stream",
          "text": [
            "Max number of words :  3519\n"
          ]
        }
      ],
      "source": [
        "from keras.preprocessing.text import one_hot\n",
        "from keras.preprocessing.sequence import pad_sequences\n",
        "\n",
        "MAX_FEATURES = 20000\n",
        "\n",
        "onehot_corpus = []\n",
        "for text in textList:\n",
        "    onehot_corpus.append(one_hot(text,MAX_FEATURES))\n",
        "    \n",
        "maxTextLen = 0\n",
        "for text in textList:\n",
        "    word_token=word_tokenize(text)\n",
        "    if(maxTextLen < len(word_token)):\n",
        "        maxTextLen = len(word_token)\n",
        "        \n",
        "print(\"Max number of words : \", maxTextLen)\n",
        "\n",
        "padded_corpus=pad_sequences(onehot_corpus,maxlen=maxTextLen,padding='post')\n",
        "x_train2,x_test2,y_train2,y_test2 = train_test_split(padded_corpus,categorical_y,test_size=0.25,random_state=42)"
      ]
    },
    {
      "cell_type": "code",
      "execution_count": null,
      "metadata": {
        "id": "z1cNXBPfAMOR"
      },
      "outputs": [],
      "source": [
        "from keras.layers import Embedding, Conv1D, MaxPooling1D, Flatten\n",
        "def build_cnn_model():\n",
        "    model = Sequential()\n",
        "    \n",
        "    model.add(Embedding(MAX_FEATURES, 100, input_length=maxTextLen))\n",
        "\n",
        "\n",
        "    model.add(Conv1D(64, 2, padding='same', activation='relu'))\n",
        "    model.add(MaxPooling1D(2))\n",
        "    \n",
        "    #model.add(MaxPooling1D(2))\n",
        "    \n",
        "    model.add(Flatten())\n",
        "    \n",
        "    model.add(Dense(units=1024,activation=\"relu\"))\n",
        "    model.add(Dense(units=512,activation=\"relu\"))\n",
        "    \n",
        "    model.add(Dense(units=y_train2.shape[1],activation=\"softmax\"))\n",
        "    \n",
        "    optimizer = Adam(lr=0.000055,beta_1=0.9,beta_2=0.999)\n",
        "    \n",
        "    model.compile(optimizer=optimizer,metrics=[\"accuracy\"],loss=categorical_crossentropy)\n",
        "    return model"
      ]
    },
    {
      "cell_type": "code",
      "execution_count": null,
      "metadata": {
        "colab": {
          "base_uri": "https://localhost:8080/",
          "height": 865
        },
        "id": "Oqo2Db_vAptx",
        "outputId": "f8a4b7db-9414-446f-8bb1-db17a954a6f6"
      },
      "outputs": [
        {
          "data": {
            "image/png": "[encoded data removed]",
            "text/plain": [
              "<IPython.core.display.Image object>"
            ]
          },
          "execution_count": 42,
          "metadata": {},
          "output_type": "execute_result"
        }
      ],
      "source": [
        "cnn_model = build_cnn_model()\n",
        "plot_model(cnn_model,show_shapes=True)"
      ]
    },
    {
      "cell_type": "code",
      "execution_count": null,
      "metadata": {
        "colab": {
          "base_uri": "https://localhost:8080/"
        },
        "id": "tL94fnQcAtD3",
        "outputId": "2dc54b00-7f00-416a-ceff-4931e6c9b4fb"
      },
      "outputs": [
        {
          "name": "stdout",
          "output_type": "stream",
          "text": [
            "Epoch 1/20\n",
            "240/240 [==============================] - 77s 317ms/step - loss: 1.2853 - accuracy: 0.5745\n",
            "Epoch 2/20\n",
            "240/240 [==============================] - 76s 315ms/step - loss: 1.0747 - accuracy: 0.6446\n",
            "Epoch 3/20\n",
            "240/240 [==============================] - 76s 315ms/step - loss: 0.9843 - accuracy: 0.6785\n",
            "Epoch 4/20\n",
            "240/240 [==============================] - 75s 314ms/step - loss: 0.8997 - accuracy: 0.7027\n",
            "Epoch 5/20\n",
            "240/240 [==============================] - 75s 314ms/step - loss: 0.8401 - accuracy: 0.7206\n",
            "Epoch 6/20\n",
            "240/240 [==============================] - 76s 315ms/step - loss: 0.7850 - accuracy: 0.7468\n",
            "Epoch 7/20\n",
            "240/240 [==============================] - 76s 315ms/step - loss: 0.7277 - accuracy: 0.7704\n",
            "Epoch 8/20\n",
            "240/240 [==============================] - 76s 316ms/step - loss: 0.6799 - accuracy: 0.7857\n",
            "Epoch 9/20\n",
            "240/240 [==============================] - 76s 317ms/step - loss: 0.6408 - accuracy: 0.7986\n",
            "Epoch 10/20\n",
            "240/240 [==============================] - 76s 317ms/step - loss: 0.6098 - accuracy: 0.8090\n",
            "Epoch 11/20\n",
            "240/240 [==============================] - 76s 318ms/step - loss: 0.5810 - accuracy: 0.8182\n",
            "Epoch 12/20\n",
            "240/240 [==============================] - 76s 318ms/step - loss: 0.5535 - accuracy: 0.8276\n",
            "Epoch 13/20\n",
            "240/240 [==============================] - 76s 318ms/step - loss: 0.5281 - accuracy: 0.8365\n",
            "Epoch 14/20\n",
            "240/240 [==============================] - 76s 317ms/step - loss: 0.5026 - accuracy: 0.8454\n",
            "Epoch 15/20\n",
            "240/240 [==============================] - 76s 317ms/step - loss: 0.4778 - accuracy: 0.8540\n",
            "Epoch 16/20\n",
            "240/240 [==============================] - 76s 317ms/step - loss: 0.4542 - accuracy: 0.8615\n",
            "Epoch 17/20\n",
            "240/240 [==============================] - 76s 318ms/step - loss: 0.4322 - accuracy: 0.8702\n",
            "Epoch 18/20\n",
            "240/240 [==============================] - 76s 318ms/step - loss: 0.4094 - accuracy: 0.8776\n",
            "Epoch 19/20\n",
            "240/240 [==============================] - 76s 318ms/step - loss: 0.3839 - accuracy: 0.8868\n",
            "Epoch 20/20\n",
            "240/240 [==============================] - 76s 316ms/step - loss: 0.3613 - accuracy: 0.8946\n"
          ]
        }
      ],
      "source": [
        "cnn_history = cnn_model.fit(x_train2,epochs=20,batch_size=512,shuffle=True)\n",
        "ypred2 = cnn_model.predict(x_test2)"
      ]
    },
    {
      "cell_type": "code",
      "execution_count": null,
      "metadata": {
        "colab": {
          "base_uri": "https://localhost:8080/",
          "height": 856
        },
        "id": "MlRE3cxRD7w5",
        "outputId": "210be7d9-de63-48ce-f711-a427aaa173de"
      },
      "outputs": [
        {
          "data": {
            "image/png": "[encoded data removed]",
            "text/plain": [
              "<Figure size 1296x1008 with 1 Axes>"
            ]
          },
          "metadata": {
            "needs_background": "light"
          },
          "output_type": "display_data"
        }
      ],
      "source": [
        "from sklearn.metrics import accuracy_score, confusion_matrix\n",
        "import seaborn as sns\n",
        "cnn_accuracy = accuracy_score(y_test2.argmax(axis=-1),ypred2.argmax(axis=-1))\n",
        "#print(\"CNN Accuracy:\",cnn_accuracy)\n",
        "cnn_cn = confusion_matrix(y_test2.argmax(axis=-1),ypred2.argmax(axis=-1))\n",
        "plt.subplots(figsize=(18,14))\n",
        "sns.heatmap(cnn_cn,annot=True,fmt=\"1d\",cbar=False,xticklabels=le.classes_,yticklabels=le.classes_)\n",
        "plt.title(\"CNN Accuracy: {}\".format(cnn_accuracy),fontsize=50)\n",
        "plt.xlabel(\"Predicted\",fontsize=15)\n",
        "plt.ylabel(\"Actual\",fontsize=15)\n",
        "plt.show()"
      ]
    },
    {
      "cell_type": "code",
      "execution_count": null,
      "metadata": {
        "colab": {
          "base_uri": "https://localhost:8080/",
          "height": 350
        },
        "id": "jzrTYnfkD_il",
        "outputId": "5aba988a-07c2-4961-a6d8-7c161a54f343"
      },
      "outputs": [
        {
          "data": {
            "image/png": "[encoded data removed]",
            "text/plain": [
              "<Figure size 1080x360 with 2 Axes>"
            ]
          },
          "metadata": {
            "needs_background": "light"
          },
          "output_type": "display_data"
        }
      ],
      "source": [
        "fig3, axe1 = plt.subplots(nrows=1, ncols=2, figsize=(15,5))\n",
        "axe1[0].plot(cnn_history.history[\"accuracy\"],label=\"accuracy\",color=\"blue\")\n",
        "axe1[1].plot(cnn_history.history[\"loss\"],label=\"loss\",color=\"red\")\n",
        "axe1[0].title.set_text(\"CNN Accuracy\")\n",
        "axe1[1].title.set_text(\"CNN Loss\")\n",
        "axe1[0].set_xlabel(\"Epoch\")\n",
        "axe1[1].set_xlabel(\"Epoch\")\n",
        "axe1[0].set_ylabel(\"Rate\")\n",
        "plt.show()"
      ]
    }
  ],
  "metadata": {
    "colab": {
      "collapsed_sections": [],
      "name": "Mental_Health_Detection.ipynb",
      "provenance": []
    },
    "gpuClass": "standard",
    "kernelspec": {
      "display_name": "Python 3.10.5 64-bit",
      "language": "python",
      "name": "python3"
    },
    "language_info": {
      "codemirror_mode": {
        "name": "ipython",
        "version": 3
      },
      "file_extension": ".py",
      "mimetype": "text/x-python",
      "name": "python",
      "nbconvert_exporter": "python",
      "pygments_lexer": "ipython3",
      "version": "3.10.5"
    },
    "vscode": {
      "interpreter": {
        "hash": "a47da215164442812c6a8e9d8897bd427e708420305c09c42c77e70efd3843fd"
      }
    }
  },
  "nbformat": 4,
  "nbformat_minor": 0
}